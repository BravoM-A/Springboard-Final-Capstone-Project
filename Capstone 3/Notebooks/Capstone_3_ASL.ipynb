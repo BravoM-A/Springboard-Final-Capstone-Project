{
 "cells": [
  {
   "cell_type": "markdown",
   "id": "1a3f9b70",
   "metadata": {},
   "source": [
    "<img src=\"../Images/American_Sign_Language_ASL.svg\" width=\"640\" height=\"60\" align=\"center\"/>\n",
    "<center><b>Fig. 1</b><br></center><center>Reference Wikipedia: By Psiĥedelisto<br><i>https://commons.wikimedia.org/w/index.php?curid=53652991<i></center>"
   ]
  },
  {
   "cell_type": "markdown",
   "id": "31eda2e6",
   "metadata": {},
   "source": [
    "# What is the problem?<br>\n",
    "Many people in North America (USA and Canada) don't have the ability to communicate verbally, so they have to use other ways of communication, like the American Sign Language. The problem with this type of communication is that many people don't know how to interpret it or use it. So what can we do about it?\n",
    "<br>\n",
    "# Context<br>\n",
    "American Sign Language (ASL) is the natural language of around 500,000 hearing impaired people in the US and Canada. A “natural” language is a language that is learned as a first language in childhood. However, not all people with this problem learn ASL as their first language.<br><br>\n",
    "The National Center for Health Statistics estimates that 28 million Americans (about 10% of the population) have some degree of hearing loss. About 2 million of these 28 million people are classified as deaf (they can’t hear everyday sounds or speech even with a hearing aid). Only about 10% of these 2 million people were born deaf. The other 90% became deaf later in life.\n",
    "Moreover, according to the World Federation of the Deaf, there are more than 70 million deaf people worldwide. More than 80% of them live in developing countries.<br><br>\n",
    "Many hearing people are fluent in ASL. Sign language has become more and more popular in recent years and many hearing people are registering for high school and college ASL classes. And according to The Rhode Island Commission on the Deaf and Hard of Hearing (RICDHH) ASL is the third most used language in the United States, after English and Spanish.<br><br>\n",
    "__But, what is Sign Language?__<br><br>\n",
    "According to Wikipedia, ASL is a complete and organized visual language that is expressed by both manual and nonmanual features.<br><br>\n",
    "ASL is not English at all. ASL is a distinct language with its own syntax and grammar and has been developed over many years by deaf people as a means of communication.<br><br>\n",
    "Deaf people who use ASL see this language as not only a means of communication, but a source of cultural unity and pride.\n",
    "Due to the importance of sign languages around the world, there must be a simple way to be able to communicate with each other as simple as any daily life activity.<br><br>\n",
    "# The solution<br>\n",
    "Create an application to help both sides of this problem to communicate effectively with each other by translating a message to text when using ASL."
   ]
  },
  {
   "cell_type": "markdown",
   "id": "0641e2c1",
   "metadata": {},
   "source": [
    "To begin with this project, let's take a look at the steps that I will take to be able to create a model that can effectively classify the different images that I will show to it. The goal in this part of the project will be to achieve a high accuracy in the classification, as close as possible to 1.<br><br>\n",
    "\n",
    "The steps that I will take are as follows:<br><br>\n",
    "    \n",
    "&nbsp;&nbsp;&nbsp;1) Data Wrangling and EDA on the datasets available<br>\n",
    "&nbsp;&nbsp;&nbsp;2) Data preparation and processing to train a model<br>\n",
    "&nbsp;&nbsp;&nbsp;3) Train different CNN models to find the one with the best accuracy<br>\n",
    "&nbsp;&nbsp;&nbsp;4) Save and load the model and test it in a validation set<br>\n",
    "&nbsp;&nbsp;&nbsp;5) Try using this model in real time classification using my webcam<br>\n",
    "\n",
    "# The data\n",
    "\n",
    "The data consists of 3 datasets from different sources. The goal of using different datasets from different sources is to train the model on a wider set of images that can contain different features that could help the model to generalize better. Although, I can anticipate that the challenge to increase accuracy will be harder.<br><br>\n",
    "The datasets have the following information:<br><br>\n",
    "\n",
    "__Data set No. 1 Name: ASL__<br><br>\n",
    "&nbsp;&nbsp;&nbsp;a) Number of images: 84,000<br>\n",
    "&nbsp;&nbsp;&nbsp;b) Number of classes: 28 (26 classes for the letters in the alphabet and Delete and Space)<br>\n",
    "&nbsp;&nbsp;&nbsp;c) Format: Color images in size 200 x 200 x 3<br>\n",
    "&nbsp;&nbsp;&nbsp;d) Source: https://www.kaggle.com/datasets/grassknoted/asl-alphabet<br><br>\n",
    "\n",
    "__Data set No. 2 Name: MNIST__<br><br>\n",
    "&nbsp;&nbsp;&nbsp;a) Number of images: 34,627 (separated in train_set: 27455 and test_set: 7172)<br>\n",
    "&nbsp;&nbsp;&nbsp;b) Number of classes: 24 (24 classes for the letters in the alphabet except 'J' and 'Z')<br>\n",
    "&nbsp;&nbsp;&nbsp;c) Format: A csv file of grayscale images of size 28 x 28 x 1 (rows of 784 pixels)<br>\n",
    "&nbsp;&nbsp;&nbsp;d) Source: https://www.kaggle.com/datasets/datamunge/sign-language-mnist<br><br>\n",
    "\n",
    "__Data set No. 3 Name: APPLE CAM__<br><br>\n",
    "&nbsp;&nbsp;&nbsp;a) Number of images: 28,000<br>\n",
    "&nbsp;&nbsp;&nbsp;b) Number of classes: 28 (26 classes for the letters in the alphabet and Delete and Space)<br>\n",
    "&nbsp;&nbsp;&nbsp;c) Format: Grayscale images in size 28 x 28 x 1<br>\n",
    "&nbsp;&nbsp;&nbsp;d) Source: Made personally with webcam<br><br>\n",
    "\n",
    "Now, let's begin with the first step in the process."
   ]
  },
  {
   "cell_type": "markdown",
   "id": "c75c3aaa",
   "metadata": {},
   "source": [
    "# Data Wrangling and EDA"
   ]
  },
  {
   "cell_type": "code",
   "execution_count": 2,
   "id": "19ffed57",
   "metadata": {},
   "outputs": [],
   "source": [
    "#First, let's import all the necessary libraries for the project\n",
    "import pandas as pd\n",
    "import numpy as np\n",
    "import matplotlib.pyplot as plt\n",
    "import seaborn as sns\n",
    "import math\n",
    "from skimage import color\n",
    "from PIL import Image\n",
    "from sklearn.preprocessing import LabelBinarizer\n",
    "from sklearn.metrics import confusion_matrix, classification_report\n",
    "from sklearn.model_selection import train_test_split\n",
    "import keras\n",
    "from keras.preprocessing.image import ImageDataGenerator\n",
    "from keras.models import Sequential\n",
    "from keras.layers import Conv2D, Flatten, MaxPool2D, Dropout, BatchNormalization, Dense\n",
    "from keras.callbacks import ModelCheckpoint, ReduceLROnPlateau\n",
    "import tensorflow as tf\n",
    "import tensorflow_datasets as tfds\n",
    "import warnings\n",
    "warnings.filterwarnings('ignore')"
   ]
  },
  {
   "cell_type": "markdown",
   "id": "34c6cbd6",
   "metadata": {},
   "source": [
    "Let's open the MNIST dataset that is already in a csv format. For the other two datasets, I will need to convert them to a dataframe. Now, since I know that the MNIST file and the APPLE_CAM set are both in a size of 28 x 28 x 1, I will have to convert the ASL set to this same size."
   ]
  },
  {
   "cell_type": "code",
   "execution_count": 3,
   "id": "a1f59a1c",
   "metadata": {},
   "outputs": [
    {
     "data": {
      "text/html": [
       "<div>\n",
       "<style scoped>\n",
       "    .dataframe tbody tr th:only-of-type {\n",
       "        vertical-align: middle;\n",
       "    }\n",
       "\n",
       "    .dataframe tbody tr th {\n",
       "        vertical-align: top;\n",
       "    }\n",
       "\n",
       "    .dataframe thead th {\n",
       "        text-align: right;\n",
       "    }\n",
       "</style>\n",
       "<table border=\"1\" class=\"dataframe\">\n",
       "  <thead>\n",
       "    <tr style=\"text-align: right;\">\n",
       "      <th></th>\n",
       "      <th>label</th>\n",
       "      <th>pixel1</th>\n",
       "      <th>pixel2</th>\n",
       "      <th>pixel3</th>\n",
       "      <th>pixel4</th>\n",
       "      <th>pixel5</th>\n",
       "      <th>pixel6</th>\n",
       "      <th>pixel7</th>\n",
       "      <th>pixel8</th>\n",
       "      <th>pixel9</th>\n",
       "      <th>...</th>\n",
       "      <th>pixel775</th>\n",
       "      <th>pixel776</th>\n",
       "      <th>pixel777</th>\n",
       "      <th>pixel778</th>\n",
       "      <th>pixel779</th>\n",
       "      <th>pixel780</th>\n",
       "      <th>pixel781</th>\n",
       "      <th>pixel782</th>\n",
       "      <th>pixel783</th>\n",
       "      <th>pixel784</th>\n",
       "    </tr>\n",
       "  </thead>\n",
       "  <tbody>\n",
       "    <tr>\n",
       "      <th>0</th>\n",
       "      <td>3</td>\n",
       "      <td>107</td>\n",
       "      <td>118</td>\n",
       "      <td>127</td>\n",
       "      <td>134</td>\n",
       "      <td>139</td>\n",
       "      <td>143</td>\n",
       "      <td>146</td>\n",
       "      <td>150</td>\n",
       "      <td>153</td>\n",
       "      <td>...</td>\n",
       "      <td>207</td>\n",
       "      <td>207</td>\n",
       "      <td>207</td>\n",
       "      <td>207</td>\n",
       "      <td>206</td>\n",
       "      <td>206</td>\n",
       "      <td>206</td>\n",
       "      <td>204</td>\n",
       "      <td>203</td>\n",
       "      <td>202</td>\n",
       "    </tr>\n",
       "    <tr>\n",
       "      <th>1</th>\n",
       "      <td>6</td>\n",
       "      <td>155</td>\n",
       "      <td>157</td>\n",
       "      <td>156</td>\n",
       "      <td>156</td>\n",
       "      <td>156</td>\n",
       "      <td>157</td>\n",
       "      <td>156</td>\n",
       "      <td>158</td>\n",
       "      <td>158</td>\n",
       "      <td>...</td>\n",
       "      <td>69</td>\n",
       "      <td>149</td>\n",
       "      <td>128</td>\n",
       "      <td>87</td>\n",
       "      <td>94</td>\n",
       "      <td>163</td>\n",
       "      <td>175</td>\n",
       "      <td>103</td>\n",
       "      <td>135</td>\n",
       "      <td>149</td>\n",
       "    </tr>\n",
       "    <tr>\n",
       "      <th>2</th>\n",
       "      <td>2</td>\n",
       "      <td>187</td>\n",
       "      <td>188</td>\n",
       "      <td>188</td>\n",
       "      <td>187</td>\n",
       "      <td>187</td>\n",
       "      <td>186</td>\n",
       "      <td>187</td>\n",
       "      <td>188</td>\n",
       "      <td>187</td>\n",
       "      <td>...</td>\n",
       "      <td>202</td>\n",
       "      <td>201</td>\n",
       "      <td>200</td>\n",
       "      <td>199</td>\n",
       "      <td>198</td>\n",
       "      <td>199</td>\n",
       "      <td>198</td>\n",
       "      <td>195</td>\n",
       "      <td>194</td>\n",
       "      <td>195</td>\n",
       "    </tr>\n",
       "    <tr>\n",
       "      <th>3</th>\n",
       "      <td>2</td>\n",
       "      <td>211</td>\n",
       "      <td>211</td>\n",
       "      <td>212</td>\n",
       "      <td>212</td>\n",
       "      <td>211</td>\n",
       "      <td>210</td>\n",
       "      <td>211</td>\n",
       "      <td>210</td>\n",
       "      <td>210</td>\n",
       "      <td>...</td>\n",
       "      <td>235</td>\n",
       "      <td>234</td>\n",
       "      <td>233</td>\n",
       "      <td>231</td>\n",
       "      <td>230</td>\n",
       "      <td>226</td>\n",
       "      <td>225</td>\n",
       "      <td>222</td>\n",
       "      <td>229</td>\n",
       "      <td>163</td>\n",
       "    </tr>\n",
       "    <tr>\n",
       "      <th>4</th>\n",
       "      <td>13</td>\n",
       "      <td>164</td>\n",
       "      <td>167</td>\n",
       "      <td>170</td>\n",
       "      <td>172</td>\n",
       "      <td>176</td>\n",
       "      <td>179</td>\n",
       "      <td>180</td>\n",
       "      <td>184</td>\n",
       "      <td>185</td>\n",
       "      <td>...</td>\n",
       "      <td>92</td>\n",
       "      <td>105</td>\n",
       "      <td>105</td>\n",
       "      <td>108</td>\n",
       "      <td>133</td>\n",
       "      <td>163</td>\n",
       "      <td>157</td>\n",
       "      <td>163</td>\n",
       "      <td>164</td>\n",
       "      <td>179</td>\n",
       "    </tr>\n",
       "  </tbody>\n",
       "</table>\n",
       "<p>5 rows × 785 columns</p>\n",
       "</div>"
      ],
      "text/plain": [
       "   label  pixel1  pixel2  pixel3  pixel4  pixel5  pixel6  pixel7  pixel8  \\\n",
       "0      3     107     118     127     134     139     143     146     150   \n",
       "1      6     155     157     156     156     156     157     156     158   \n",
       "2      2     187     188     188     187     187     186     187     188   \n",
       "3      2     211     211     212     212     211     210     211     210   \n",
       "4     13     164     167     170     172     176     179     180     184   \n",
       "\n",
       "   pixel9  ...  pixel775  pixel776  pixel777  pixel778  pixel779  pixel780  \\\n",
       "0     153  ...       207       207       207       207       206       206   \n",
       "1     158  ...        69       149       128        87        94       163   \n",
       "2     187  ...       202       201       200       199       198       199   \n",
       "3     210  ...       235       234       233       231       230       226   \n",
       "4     185  ...        92       105       105       108       133       163   \n",
       "\n",
       "   pixel781  pixel782  pixel783  pixel784  \n",
       "0       206       204       203       202  \n",
       "1       175       103       135       149  \n",
       "2       198       195       194       195  \n",
       "3       225       222       229       163  \n",
       "4       157       163       164       179  \n",
       "\n",
       "[5 rows x 785 columns]"
      ]
     },
     "execution_count": 3,
     "metadata": {},
     "output_type": "execute_result"
    }
   ],
   "source": [
    "#Let's open the MNIST train set\n",
    "train_MNIST = pd.read_csv('Sign language MNIST images/sign_mnist_train.csv')\n",
    "train_MNIST.head()"
   ]
  },
  {
   "cell_type": "code",
   "execution_count": 4,
   "id": "2dbd3aa0",
   "metadata": {},
   "outputs": [
    {
     "data": {
      "text/html": [
       "<div>\n",
       "<style scoped>\n",
       "    .dataframe tbody tr th:only-of-type {\n",
       "        vertical-align: middle;\n",
       "    }\n",
       "\n",
       "    .dataframe tbody tr th {\n",
       "        vertical-align: top;\n",
       "    }\n",
       "\n",
       "    .dataframe thead th {\n",
       "        text-align: right;\n",
       "    }\n",
       "</style>\n",
       "<table border=\"1\" class=\"dataframe\">\n",
       "  <thead>\n",
       "    <tr style=\"text-align: right;\">\n",
       "      <th></th>\n",
       "      <th>label</th>\n",
       "      <th>pixel1</th>\n",
       "      <th>pixel2</th>\n",
       "      <th>pixel3</th>\n",
       "      <th>pixel4</th>\n",
       "      <th>pixel5</th>\n",
       "      <th>pixel6</th>\n",
       "      <th>pixel7</th>\n",
       "      <th>pixel8</th>\n",
       "      <th>pixel9</th>\n",
       "      <th>...</th>\n",
       "      <th>pixel775</th>\n",
       "      <th>pixel776</th>\n",
       "      <th>pixel777</th>\n",
       "      <th>pixel778</th>\n",
       "      <th>pixel779</th>\n",
       "      <th>pixel780</th>\n",
       "      <th>pixel781</th>\n",
       "      <th>pixel782</th>\n",
       "      <th>pixel783</th>\n",
       "      <th>pixel784</th>\n",
       "    </tr>\n",
       "  </thead>\n",
       "  <tbody>\n",
       "    <tr>\n",
       "      <th>0</th>\n",
       "      <td>6</td>\n",
       "      <td>149</td>\n",
       "      <td>149</td>\n",
       "      <td>150</td>\n",
       "      <td>150</td>\n",
       "      <td>150</td>\n",
       "      <td>151</td>\n",
       "      <td>151</td>\n",
       "      <td>150</td>\n",
       "      <td>151</td>\n",
       "      <td>...</td>\n",
       "      <td>138</td>\n",
       "      <td>148</td>\n",
       "      <td>127</td>\n",
       "      <td>89</td>\n",
       "      <td>82</td>\n",
       "      <td>96</td>\n",
       "      <td>106</td>\n",
       "      <td>112</td>\n",
       "      <td>120</td>\n",
       "      <td>107</td>\n",
       "    </tr>\n",
       "    <tr>\n",
       "      <th>1</th>\n",
       "      <td>5</td>\n",
       "      <td>126</td>\n",
       "      <td>128</td>\n",
       "      <td>131</td>\n",
       "      <td>132</td>\n",
       "      <td>133</td>\n",
       "      <td>134</td>\n",
       "      <td>135</td>\n",
       "      <td>135</td>\n",
       "      <td>136</td>\n",
       "      <td>...</td>\n",
       "      <td>47</td>\n",
       "      <td>104</td>\n",
       "      <td>194</td>\n",
       "      <td>183</td>\n",
       "      <td>186</td>\n",
       "      <td>184</td>\n",
       "      <td>184</td>\n",
       "      <td>184</td>\n",
       "      <td>182</td>\n",
       "      <td>180</td>\n",
       "    </tr>\n",
       "    <tr>\n",
       "      <th>2</th>\n",
       "      <td>10</td>\n",
       "      <td>85</td>\n",
       "      <td>88</td>\n",
       "      <td>92</td>\n",
       "      <td>96</td>\n",
       "      <td>105</td>\n",
       "      <td>123</td>\n",
       "      <td>135</td>\n",
       "      <td>143</td>\n",
       "      <td>147</td>\n",
       "      <td>...</td>\n",
       "      <td>68</td>\n",
       "      <td>166</td>\n",
       "      <td>242</td>\n",
       "      <td>227</td>\n",
       "      <td>230</td>\n",
       "      <td>227</td>\n",
       "      <td>226</td>\n",
       "      <td>225</td>\n",
       "      <td>224</td>\n",
       "      <td>222</td>\n",
       "    </tr>\n",
       "    <tr>\n",
       "      <th>3</th>\n",
       "      <td>0</td>\n",
       "      <td>203</td>\n",
       "      <td>205</td>\n",
       "      <td>207</td>\n",
       "      <td>206</td>\n",
       "      <td>207</td>\n",
       "      <td>209</td>\n",
       "      <td>210</td>\n",
       "      <td>209</td>\n",
       "      <td>210</td>\n",
       "      <td>...</td>\n",
       "      <td>154</td>\n",
       "      <td>248</td>\n",
       "      <td>247</td>\n",
       "      <td>248</td>\n",
       "      <td>253</td>\n",
       "      <td>236</td>\n",
       "      <td>230</td>\n",
       "      <td>240</td>\n",
       "      <td>253</td>\n",
       "      <td>255</td>\n",
       "    </tr>\n",
       "    <tr>\n",
       "      <th>4</th>\n",
       "      <td>3</td>\n",
       "      <td>188</td>\n",
       "      <td>191</td>\n",
       "      <td>193</td>\n",
       "      <td>195</td>\n",
       "      <td>199</td>\n",
       "      <td>201</td>\n",
       "      <td>202</td>\n",
       "      <td>203</td>\n",
       "      <td>203</td>\n",
       "      <td>...</td>\n",
       "      <td>26</td>\n",
       "      <td>40</td>\n",
       "      <td>64</td>\n",
       "      <td>48</td>\n",
       "      <td>29</td>\n",
       "      <td>46</td>\n",
       "      <td>49</td>\n",
       "      <td>46</td>\n",
       "      <td>46</td>\n",
       "      <td>53</td>\n",
       "    </tr>\n",
       "  </tbody>\n",
       "</table>\n",
       "<p>5 rows × 785 columns</p>\n",
       "</div>"
      ],
      "text/plain": [
       "   label  pixel1  pixel2  pixel3  pixel4  pixel5  pixel6  pixel7  pixel8  \\\n",
       "0      6     149     149     150     150     150     151     151     150   \n",
       "1      5     126     128     131     132     133     134     135     135   \n",
       "2     10      85      88      92      96     105     123     135     143   \n",
       "3      0     203     205     207     206     207     209     210     209   \n",
       "4      3     188     191     193     195     199     201     202     203   \n",
       "\n",
       "   pixel9  ...  pixel775  pixel776  pixel777  pixel778  pixel779  pixel780  \\\n",
       "0     151  ...       138       148       127        89        82        96   \n",
       "1     136  ...        47       104       194       183       186       184   \n",
       "2     147  ...        68       166       242       227       230       227   \n",
       "3     210  ...       154       248       247       248       253       236   \n",
       "4     203  ...        26        40        64        48        29        46   \n",
       "\n",
       "   pixel781  pixel782  pixel783  pixel784  \n",
       "0       106       112       120       107  \n",
       "1       184       184       182       180  \n",
       "2       226       225       224       222  \n",
       "3       230       240       253       255  \n",
       "4        49        46        46        53  \n",
       "\n",
       "[5 rows x 785 columns]"
      ]
     },
     "execution_count": 4,
     "metadata": {},
     "output_type": "execute_result"
    }
   ],
   "source": [
    "#Let's open the MNIST test set\n",
    "test_MNIST = pd.read_csv('Sign language MNIST images/sign_mnist_test.csv')\n",
    "test_MNIST.head()"
   ]
  },
  {
   "cell_type": "markdown",
   "id": "c2210129",
   "metadata": {},
   "source": [
    "Before handling any other datasets, I will make sure that the information on the MNIST sets is in the correct format and that the values are not missing or corrupted"
   ]
  },
  {
   "cell_type": "code",
   "execution_count": 5,
   "id": "5e6271a7",
   "metadata": {},
   "outputs": [
    {
     "name": "stdout",
     "output_type": "stream",
     "text": [
      "0\n",
      "0\n"
     ]
    }
   ],
   "source": [
    "#Let's see if there are any missing values\n",
    "print(train_MNIST.isnull().any().sum())\n",
    "print(test_MNIST.isnull().any().sum())"
   ]
  },
  {
   "cell_type": "code",
   "execution_count": 6,
   "id": "afe0824b",
   "metadata": {},
   "outputs": [
    {
     "name": "stdout",
     "output_type": "stream",
     "text": [
      "<class 'pandas.core.frame.DataFrame'>\n",
      "RangeIndex: 27455 entries, 0 to 27454\n",
      "Columns: 785 entries, label to pixel784\n",
      "dtypes: int64(785)\n",
      "memory usage: 164.4 MB\n"
     ]
    }
   ],
   "source": [
    "train_MNIST.info()"
   ]
  },
  {
   "cell_type": "code",
   "execution_count": 7,
   "id": "6d7035a3",
   "metadata": {},
   "outputs": [
    {
     "name": "stdout",
     "output_type": "stream",
     "text": [
      "<class 'pandas.core.frame.DataFrame'>\n",
      "RangeIndex: 7172 entries, 0 to 7171\n",
      "Columns: 785 entries, label to pixel784\n",
      "dtypes: int64(785)\n",
      "memory usage: 43.0 MB\n"
     ]
    }
   ],
   "source": [
    "test_MNIST.info()"
   ]
  },
  {
   "cell_type": "code",
   "execution_count": 8,
   "id": "78c392ff",
   "metadata": {},
   "outputs": [
    {
     "data": {
      "text/plain": [
       "((27455, 785), (7172, 785))"
      ]
     },
     "execution_count": 8,
     "metadata": {},
     "output_type": "execute_result"
    }
   ],
   "source": [
    "train_MNIST.shape, test_MNIST.shape"
   ]
  },
  {
   "cell_type": "markdown",
   "id": "4078552f",
   "metadata": {},
   "source": [
    "Both datasets don't have any missing values and the data is in integer values for the pixels in every image. Both data frames have 785 columns which indicate the 784 pixels on every image (28 x 28) and the label column.<br><br>Now let's check if all the values are between 0 and 255 for every pixel."
   ]
  },
  {
   "cell_type": "code",
   "execution_count": 9,
   "id": "91f08e50",
   "metadata": {},
   "outputs": [
    {
     "name": "stdout",
     "output_type": "stream",
     "text": [
      "0\n",
      "0\n"
     ]
    }
   ],
   "source": [
    "#Check if all the integer values are between 0 and 255\n",
    "print((((train_MNIST >= 0) & (train_MNIST <= 255)) == 0).any().sum())\n",
    "print((((test_MNIST >= 0) & (test_MNIST <= 255)) == 0).any().sum())"
   ]
  },
  {
   "cell_type": "markdown",
   "id": "4b751111",
   "metadata": {},
   "source": [
    "There are no negative values or values higher than 255 that could affect the training of the model. Now let's take a look at an example of an image in each set for every of the 24 classes"
   ]
  },
  {
   "cell_type": "code",
   "execution_count": 10,
   "id": "58377e31",
   "metadata": {},
   "outputs": [
    {
     "data": {
      "text/plain": [
       "{0: 'A',\n",
       " 1: 'B',\n",
       " 2: 'C',\n",
       " 3: 'D',\n",
       " 4: 'E',\n",
       " 5: 'F',\n",
       " 6: 'G',\n",
       " 7: 'H',\n",
       " 8: 'I',\n",
       " 10: 'K',\n",
       " 11: 'L',\n",
       " 12: 'M',\n",
       " 13: 'N',\n",
       " 14: 'O',\n",
       " 15: 'P',\n",
       " 16: 'Q',\n",
       " 17: 'R',\n",
       " 18: 'S',\n",
       " 19: 'T',\n",
       " 20: 'U',\n",
       " 21: 'V',\n",
       " 22: 'W',\n",
       " 23: 'X',\n",
       " 24: 'Y'}"
      ]
     },
     "execution_count": 10,
     "metadata": {},
     "output_type": "execute_result"
    }
   ],
   "source": [
    "#First, let's create a dictionary of the 24 classes that we have in the datasets.\n",
    "#I need to consider that there is no 'J' nor 'Z'\n",
    "import string\n",
    "alphabet = [value for value in string.ascii_uppercase if value not in ['J','Z']]\n",
    "classes = sorted(train_MNIST['label'].unique().tolist())\n",
    "dict_classes = dict(zip(classes, alphabet))\n",
    "dict_classes"
   ]
  },
  {
   "cell_type": "markdown",
   "id": "e2163ea8",
   "metadata": {},
   "source": [
    "The dictionary is correct. It does not have the class 9 for the letter 'J', nor the class 25 for the letter 'Z'. Now let's check a few samples of the images in both sets."
   ]
  },
  {
   "cell_type": "code",
   "execution_count": 11,
   "id": "b7a45daf",
   "metadata": {},
   "outputs": [
    {
     "data": {
      "image/png": "[encoded data removed]",
      "text/plain": [
       "<Figure size 1152x576 with 9 Axes>"
      ]
     },
     "metadata": {
      "needs_background": "light"
     },
     "output_type": "display_data"
    }
   ],
   "source": [
    "fig = plt.figure(figsize=(16,8))\n",
    "key = 0\n",
    "for i in range(1,11):\n",
    "    if key != 9:\n",
    "        fig.add_subplot(2, 5, i)\n",
    "        img = train_MNIST.loc[train_MNIST['label'] == key].drop(columns='label').iloc[0].to_numpy()\n",
    "        plt.imshow(img.reshape(28,28), cmap='gray')\n",
    "        plt.title(f'Image for the letter: {dict_classes[key]}')\n",
    "    key += 1"
   ]
  },
  {
   "cell_type": "code",
   "execution_count": 12,
   "id": "3ce87a81",
   "metadata": {},
   "outputs": [
    {
     "data": {
      "image/png": "[encoded data removed]",
      "text/plain": [
       "<Figure size 1152x576 with 9 Axes>"
      ]
     },
     "metadata": {
      "needs_background": "light"
     },
     "output_type": "display_data"
    }
   ],
   "source": [
    "fig = plt.figure(figsize=(16,8))\n",
    "key = 0\n",
    "for i in range(1,11):\n",
    "    if key != 9:\n",
    "        fig.add_subplot(2, 5, i)\n",
    "        img = test_MNIST.loc[test_MNIST['label'] == key].drop(columns='label').iloc[0].to_numpy()\n",
    "        plt.imshow(img.reshape(28,28), cmap='gray')\n",
    "        plt.title(f'Image for the letter: {dict_classes[key]}')\n",
    "    key += 1"
   ]
  },
  {
   "cell_type": "markdown",
   "id": "882b10b4",
   "metadata": {},
   "source": [
    "The samples seem to be correct to the label they have. Now I will check the balance of the classes."
   ]
  },
  {
   "cell_type": "code",
   "execution_count": 13,
   "id": "61aa7405",
   "metadata": {},
   "outputs": [
    {
     "data": {
      "image/png": "[encoded data removed]",
      "text/plain": [
       "<Figure size 720x432 with 1 Axes>"
      ]
     },
     "metadata": {
      "needs_background": "light"
     },
     "output_type": "display_data"
    }
   ],
   "source": [
    "plt.figure(figsize = (10,6))\n",
    "sns.countplot(train_MNIST['label'], color='g')\n",
    "plt.title('Count of each class in the set')\n",
    "plt.xlabel('Classes')\n",
    "plt.show()"
   ]
  },
  {
   "cell_type": "code",
   "execution_count": 14,
   "id": "dc8baeda",
   "metadata": {},
   "outputs": [
    {
     "data": {
      "image/png": "[encoded data removed]",
      "text/plain": [
       "<Figure size 720x432 with 1 Axes>"
      ]
     },
     "metadata": {
      "needs_background": "light"
     },
     "output_type": "display_data"
    }
   ],
   "source": [
    "plt.figure(figsize = (10,6))\n",
    "sns.countplot(test_MNIST['label'], color='g')\n",
    "plt.title('Count of each class in the set')\n",
    "plt.xlabel('Classes')\n",
    "plt.show()"
   ]
  },
  {
   "cell_type": "markdown",
   "id": "32c47a56",
   "metadata": {},
   "source": [
    "The classes in the training set seem well balanced. On the other hand, the classes on the test set are not. This is not a problem because the test_MNIST set will be used only for predictions.<br><br>\n",
    "Later on, I will concatenate the other datasets together with the train_MNIST set to have all the training information in one dataframe.<br><br>\n",
    "For now, let's continue to get the two remaining datasets ready for use.<br><br>\n",
    "Let's start with the ASL dataset which has 84,000 color images with size of 200 x 200 pixels, and 28 classes (four classes more than the MNIST set)."
   ]
  },
  {
   "cell_type": "code",
   "execution_count": 15,
   "id": "eed094e8",
   "metadata": {},
   "outputs": [
    {
     "data": {
      "text/plain": [
       "(200, 200, 3)"
      ]
     },
     "execution_count": 15,
     "metadata": {},
     "output_type": "execute_result"
    }
   ],
   "source": [
    "#Let's take a look at an example of an image of the ASL set. This set has color images of 200 x 200 pixels\n",
    "img = Image.open('ASL images/asl_alphabet_train/asl_alphabet_train/A/A1.jpg')\n",
    "img = np.asarray(img)\n",
    "img.shape"
   ]
  },
  {
   "cell_type": "code",
   "execution_count": 16,
   "id": "91f27ba1",
   "metadata": {},
   "outputs": [
    {
     "data": {
      "image/png": "[encoded data removed]",
      "text/plain": [
       "<Figure size 432x288 with 1 Axes>"
      ]
     },
     "metadata": {
      "needs_background": "light"
     },
     "output_type": "display_data"
    }
   ],
   "source": [
    "#I could confirm that in fact the images are 200 x 2000 x 3 in size, let's show the image\n",
    "plt.imshow(img)\n",
    "plt.title('Image for the letter A')\n",
    "plt.show()"
   ]
  },
  {
   "cell_type": "markdown",
   "id": "d08e70d7",
   "metadata": {},
   "source": [
    "Now I will have to resize the images and transform each one of them into a row in a dataframe. To do this I will use the \"image_dataset_from_directory\" utility from keras library."
   ]
  },
  {
   "cell_type": "code",
   "execution_count": 18,
   "id": "5533ef40",
   "metadata": {},
   "outputs": [
    {
     "name": "stdout",
     "output_type": "stream",
     "text": [
      "Found 84000 files belonging to 28 classes.\n"
     ]
    }
   ],
   "source": [
    "#I choose the directory from which to extract the images\n",
    "directory = 'ASL images/asl_alphabet_train/asl_alphabet_train'\n",
    "\n",
    "train = keras.utils.image_dataset_from_directory(\n",
    "    directory,\n",
    "    labels=\"inferred\", #labels are inferred from the labeled subfolders\n",
    "    label_mode=\"int\", #labels will be as integers\n",
    "    seed = 0,\n",
    "    color_mode=\"grayscale\", #change to grayscale\n",
    "    batch_size=30, \n",
    "    image_size=(28, 28), #resize the images\n",
    "    shuffle=True\n",
    ")"
   ]
  },
  {
   "cell_type": "code",
   "execution_count": 19,
   "id": "4394074b",
   "metadata": {},
   "outputs": [],
   "source": [
    "#Convert the output of the previous step to an array\n",
    "train_arr = tfds.as_numpy(train)"
   ]
  },
  {
   "cell_type": "code",
   "execution_count": 20,
   "id": "fd56b45a",
   "metadata": {},
   "outputs": [],
   "source": [
    "#Create a list of the column names of the dataframe\n",
    "pixels = []\n",
    "for i in range(784):\n",
    "    pixels.append(f'pixel{i+1}')\n",
    "pixels.append('label')"
   ]
  },
  {
   "cell_type": "code",
   "execution_count": 21,
   "id": "eb7f6098",
   "metadata": {},
   "outputs": [],
   "source": [
    "#Create a dataframe of the ASL images with the same columns as the MNIST set\n",
    "#Let's make a function to use later with the third dataset\n",
    "def transform_to_dataframe(train_array, batch_size):\n",
    "    dataset = pd.DataFrame()\n",
    "    i = 0\n",
    "    for image, label in train_arr: #unzip the iterable array\n",
    "        array1 = image\n",
    "        array2 = label\n",
    "        array1 = array1.reshape(batch_size,784) #reshape every batch of 30 images in the iterable array\n",
    "        array2 = array2.reshape(-1,1) #reshape the label to one column\n",
    "        arrays = np.concatenate((array1, array2), axis=1)\n",
    "        if i == 0: \n",
    "            dataset = pd.DataFrame(arrays, columns=pixels) #Create a first dataframe to later concatenate every batch\n",
    "            i += 1\n",
    "        else:\n",
    "            dataset1 = pd.DataFrame(arrays, columns=pixels) #The current batch\n",
    "            dataset = pd.concat([dataset, dataset1]) #Concatenate the previous and current batches\n",
    "            i += 1\n",
    "    return dataset"
   ]
  },
  {
   "cell_type": "code",
   "execution_count": 22,
   "id": "4d92ebfb",
   "metadata": {},
   "outputs": [],
   "source": [
    "dataset = transform_to_dataframe(train_arr, 30)"
   ]
  },
  {
   "cell_type": "code",
   "execution_count": 23,
   "id": "b55a9f61",
   "metadata": {},
   "outputs": [],
   "source": [
    "#Let's now save this dataframe as a csv file so it's available for use\n",
    "dataset.to_csv('ASL_train.csv')"
   ]
  },
  {
   "cell_type": "markdown",
   "id": "81f48b5d",
   "metadata": {},
   "source": [
    "Now that the ASL information is saved in a csv file. Let's proceed and open it, and execute the same actions as with the MNIST file."
   ]
  },
  {
   "cell_type": "code",
   "execution_count": 24,
   "id": "bb65a86a",
   "metadata": {},
   "outputs": [
    {
     "data": {
      "text/plain": [
       "(84000, 786)"
      ]
     },
     "execution_count": 24,
     "metadata": {},
     "output_type": "execute_result"
    }
   ],
   "source": [
    "#Open the saved file\n",
    "train_ASL = pd.read_csv('ASL_train.csv')\n",
    "train_ASL.shape"
   ]
  },
  {
   "cell_type": "code",
   "execution_count": 25,
   "id": "e549b9e3",
   "metadata": {},
   "outputs": [
    {
     "data": {
      "text/html": [
       "<div>\n",
       "<style scoped>\n",
       "    .dataframe tbody tr th:only-of-type {\n",
       "        vertical-align: middle;\n",
       "    }\n",
       "\n",
       "    .dataframe tbody tr th {\n",
       "        vertical-align: top;\n",
       "    }\n",
       "\n",
       "    .dataframe thead th {\n",
       "        text-align: right;\n",
       "    }\n",
       "</style>\n",
       "<table border=\"1\" class=\"dataframe\">\n",
       "  <thead>\n",
       "    <tr style=\"text-align: right;\">\n",
       "      <th></th>\n",
       "      <th>Unnamed: 0</th>\n",
       "      <th>pixel1</th>\n",
       "      <th>pixel2</th>\n",
       "      <th>pixel3</th>\n",
       "      <th>pixel4</th>\n",
       "      <th>pixel5</th>\n",
       "      <th>pixel6</th>\n",
       "      <th>pixel7</th>\n",
       "      <th>pixel8</th>\n",
       "      <th>pixel9</th>\n",
       "      <th>...</th>\n",
       "      <th>pixel776</th>\n",
       "      <th>pixel777</th>\n",
       "      <th>pixel778</th>\n",
       "      <th>pixel779</th>\n",
       "      <th>pixel780</th>\n",
       "      <th>pixel781</th>\n",
       "      <th>pixel782</th>\n",
       "      <th>pixel783</th>\n",
       "      <th>pixel784</th>\n",
       "      <th>label</th>\n",
       "    </tr>\n",
       "  </thead>\n",
       "  <tbody>\n",
       "    <tr>\n",
       "      <th>0</th>\n",
       "      <td>0</td>\n",
       "      <td>95.331635</td>\n",
       "      <td>95.739792</td>\n",
       "      <td>94.285713</td>\n",
       "      <td>102.821426</td>\n",
       "      <td>107.091835</td>\n",
       "      <td>112.045914</td>\n",
       "      <td>141.122452</td>\n",
       "      <td>127.112244</td>\n",
       "      <td>174.158173</td>\n",
       "      <td>...</td>\n",
       "      <td>135.928574</td>\n",
       "      <td>144.918365</td>\n",
       "      <td>145.576538</td>\n",
       "      <td>137.770416</td>\n",
       "      <td>136.142853</td>\n",
       "      <td>129.821442</td>\n",
       "      <td>128.831635</td>\n",
       "      <td>134.229584</td>\n",
       "      <td>137.877548</td>\n",
       "      <td>12.0</td>\n",
       "    </tr>\n",
       "    <tr>\n",
       "      <th>1</th>\n",
       "      <td>1</td>\n",
       "      <td>84.923470</td>\n",
       "      <td>87.382652</td>\n",
       "      <td>88.469391</td>\n",
       "      <td>89.964287</td>\n",
       "      <td>89.709183</td>\n",
       "      <td>99.357147</td>\n",
       "      <td>127.714279</td>\n",
       "      <td>122.841827</td>\n",
       "      <td>186.949005</td>\n",
       "      <td>...</td>\n",
       "      <td>135.071411</td>\n",
       "      <td>130.642868</td>\n",
       "      <td>125.000000</td>\n",
       "      <td>128.673477</td>\n",
       "      <td>130.000000</td>\n",
       "      <td>122.750008</td>\n",
       "      <td>122.500000</td>\n",
       "      <td>119.571442</td>\n",
       "      <td>126.020409</td>\n",
       "      <td>27.0</td>\n",
       "    </tr>\n",
       "    <tr>\n",
       "      <th>2</th>\n",
       "      <td>2</td>\n",
       "      <td>127.484695</td>\n",
       "      <td>121.811226</td>\n",
       "      <td>121.479584</td>\n",
       "      <td>130.107147</td>\n",
       "      <td>153.336731</td>\n",
       "      <td>151.127548</td>\n",
       "      <td>153.224487</td>\n",
       "      <td>151.209183</td>\n",
       "      <td>148.642868</td>\n",
       "      <td>...</td>\n",
       "      <td>146.714294</td>\n",
       "      <td>145.785721</td>\n",
       "      <td>144.576538</td>\n",
       "      <td>142.928574</td>\n",
       "      <td>142.612259</td>\n",
       "      <td>143.714294</td>\n",
       "      <td>142.714294</td>\n",
       "      <td>140.714279</td>\n",
       "      <td>139.520416</td>\n",
       "      <td>11.0</td>\n",
       "    </tr>\n",
       "    <tr>\n",
       "      <th>3</th>\n",
       "      <td>3</td>\n",
       "      <td>43.204082</td>\n",
       "      <td>46.928570</td>\n",
       "      <td>51.117348</td>\n",
       "      <td>60.535713</td>\n",
       "      <td>74.551018</td>\n",
       "      <td>64.525513</td>\n",
       "      <td>39.198978</td>\n",
       "      <td>33.285713</td>\n",
       "      <td>33.301022</td>\n",
       "      <td>...</td>\n",
       "      <td>136.061142</td>\n",
       "      <td>137.928574</td>\n",
       "      <td>137.000000</td>\n",
       "      <td>136.729599</td>\n",
       "      <td>137.857147</td>\n",
       "      <td>137.857147</td>\n",
       "      <td>134.285721</td>\n",
       "      <td>131.872452</td>\n",
       "      <td>130.178589</td>\n",
       "      <td>3.0</td>\n",
       "    </tr>\n",
       "    <tr>\n",
       "      <th>4</th>\n",
       "      <td>4</td>\n",
       "      <td>85.780617</td>\n",
       "      <td>77.040817</td>\n",
       "      <td>83.571426</td>\n",
       "      <td>88.071426</td>\n",
       "      <td>93.015312</td>\n",
       "      <td>101.887749</td>\n",
       "      <td>121.045921</td>\n",
       "      <td>118.959190</td>\n",
       "      <td>178.387787</td>\n",
       "      <td>...</td>\n",
       "      <td>134.801025</td>\n",
       "      <td>132.862244</td>\n",
       "      <td>129.642868</td>\n",
       "      <td>125.515320</td>\n",
       "      <td>117.637764</td>\n",
       "      <td>114.500000</td>\n",
       "      <td>118.357147</td>\n",
       "      <td>120.943893</td>\n",
       "      <td>122.454094</td>\n",
       "      <td>23.0</td>\n",
       "    </tr>\n",
       "  </tbody>\n",
       "</table>\n",
       "<p>5 rows × 786 columns</p>\n",
       "</div>"
      ],
      "text/plain": [
       "   Unnamed: 0      pixel1      pixel2      pixel3      pixel4      pixel5  \\\n",
       "0           0   95.331635   95.739792   94.285713  102.821426  107.091835   \n",
       "1           1   84.923470   87.382652   88.469391   89.964287   89.709183   \n",
       "2           2  127.484695  121.811226  121.479584  130.107147  153.336731   \n",
       "3           3   43.204082   46.928570   51.117348   60.535713   74.551018   \n",
       "4           4   85.780617   77.040817   83.571426   88.071426   93.015312   \n",
       "\n",
       "       pixel6      pixel7      pixel8      pixel9  ...    pixel776  \\\n",
       "0  112.045914  141.122452  127.112244  174.158173  ...  135.928574   \n",
       "1   99.357147  127.714279  122.841827  186.949005  ...  135.071411   \n",
       "2  151.127548  153.224487  151.209183  148.642868  ...  146.714294   \n",
       "3   64.525513   39.198978   33.285713   33.301022  ...  136.061142   \n",
       "4  101.887749  121.045921  118.959190  178.387787  ...  134.801025   \n",
       "\n",
       "     pixel777    pixel778    pixel779    pixel780    pixel781    pixel782  \\\n",
       "0  144.918365  145.576538  137.770416  136.142853  129.821442  128.831635   \n",
       "1  130.642868  125.000000  128.673477  130.000000  122.750008  122.500000   \n",
       "2  145.785721  144.576538  142.928574  142.612259  143.714294  142.714294   \n",
       "3  137.928574  137.000000  136.729599  137.857147  137.857147  134.285721   \n",
       "4  132.862244  129.642868  125.515320  117.637764  114.500000  118.357147   \n",
       "\n",
       "     pixel783    pixel784  label  \n",
       "0  134.229584  137.877548   12.0  \n",
       "1  119.571442  126.020409   27.0  \n",
       "2  140.714279  139.520416   11.0  \n",
       "3  131.872452  130.178589    3.0  \n",
       "4  120.943893  122.454094   23.0  \n",
       "\n",
       "[5 rows x 786 columns]"
      ]
     },
     "execution_count": 25,
     "metadata": {},
     "output_type": "execute_result"
    }
   ],
   "source": [
    "train_ASL.head()"
   ]
  },
  {
   "cell_type": "markdown",
   "id": "c1f9f432",
   "metadata": {},
   "source": [
    "The dataset has an additional column called Unnamed: 0. This values probably indicate the index inside the batch when we exported the images using the keras utility. In this case, we don't need this column. Another thing to notice is that the label column is in the last position of the columns, contrary to the MNIST dataset. I will modify the MNIST dataframe so the label column is the last one."
   ]
  },
  {
   "cell_type": "code",
   "execution_count": 26,
   "id": "47b32c3f",
   "metadata": {},
   "outputs": [
    {
     "data": {
      "text/html": [
       "<div>\n",
       "<style scoped>\n",
       "    .dataframe tbody tr th:only-of-type {\n",
       "        vertical-align: middle;\n",
       "    }\n",
       "\n",
       "    .dataframe tbody tr th {\n",
       "        vertical-align: top;\n",
       "    }\n",
       "\n",
       "    .dataframe thead th {\n",
       "        text-align: right;\n",
       "    }\n",
       "</style>\n",
       "<table border=\"1\" class=\"dataframe\">\n",
       "  <thead>\n",
       "    <tr style=\"text-align: right;\">\n",
       "      <th></th>\n",
       "      <th>pixel1</th>\n",
       "      <th>pixel2</th>\n",
       "      <th>pixel3</th>\n",
       "      <th>pixel4</th>\n",
       "      <th>pixel5</th>\n",
       "      <th>pixel6</th>\n",
       "      <th>pixel7</th>\n",
       "      <th>pixel8</th>\n",
       "      <th>pixel9</th>\n",
       "      <th>pixel10</th>\n",
       "      <th>...</th>\n",
       "      <th>pixel776</th>\n",
       "      <th>pixel777</th>\n",
       "      <th>pixel778</th>\n",
       "      <th>pixel779</th>\n",
       "      <th>pixel780</th>\n",
       "      <th>pixel781</th>\n",
       "      <th>pixel782</th>\n",
       "      <th>pixel783</th>\n",
       "      <th>pixel784</th>\n",
       "      <th>label</th>\n",
       "    </tr>\n",
       "  </thead>\n",
       "  <tbody>\n",
       "    <tr>\n",
       "      <th>0</th>\n",
       "      <td>95.331635</td>\n",
       "      <td>95.739792</td>\n",
       "      <td>94.285713</td>\n",
       "      <td>102.821426</td>\n",
       "      <td>107.091835</td>\n",
       "      <td>112.045914</td>\n",
       "      <td>141.122452</td>\n",
       "      <td>127.112244</td>\n",
       "      <td>174.158173</td>\n",
       "      <td>244.127548</td>\n",
       "      <td>...</td>\n",
       "      <td>135.928574</td>\n",
       "      <td>144.918365</td>\n",
       "      <td>145.576538</td>\n",
       "      <td>137.770416</td>\n",
       "      <td>136.142853</td>\n",
       "      <td>129.821442</td>\n",
       "      <td>128.831635</td>\n",
       "      <td>134.229584</td>\n",
       "      <td>137.877548</td>\n",
       "      <td>12.0</td>\n",
       "    </tr>\n",
       "    <tr>\n",
       "      <th>1</th>\n",
       "      <td>84.923470</td>\n",
       "      <td>87.382652</td>\n",
       "      <td>88.469391</td>\n",
       "      <td>89.964287</td>\n",
       "      <td>89.709183</td>\n",
       "      <td>99.357147</td>\n",
       "      <td>127.714279</td>\n",
       "      <td>122.841827</td>\n",
       "      <td>186.949005</td>\n",
       "      <td>245.438782</td>\n",
       "      <td>...</td>\n",
       "      <td>135.071411</td>\n",
       "      <td>130.642868</td>\n",
       "      <td>125.000000</td>\n",
       "      <td>128.673477</td>\n",
       "      <td>130.000000</td>\n",
       "      <td>122.750008</td>\n",
       "      <td>122.500000</td>\n",
       "      <td>119.571442</td>\n",
       "      <td>126.020409</td>\n",
       "      <td>27.0</td>\n",
       "    </tr>\n",
       "    <tr>\n",
       "      <th>2</th>\n",
       "      <td>127.484695</td>\n",
       "      <td>121.811226</td>\n",
       "      <td>121.479584</td>\n",
       "      <td>130.107147</td>\n",
       "      <td>153.336731</td>\n",
       "      <td>151.127548</td>\n",
       "      <td>153.224487</td>\n",
       "      <td>151.209183</td>\n",
       "      <td>148.642868</td>\n",
       "      <td>149.617355</td>\n",
       "      <td>...</td>\n",
       "      <td>146.714294</td>\n",
       "      <td>145.785721</td>\n",
       "      <td>144.576538</td>\n",
       "      <td>142.928574</td>\n",
       "      <td>142.612259</td>\n",
       "      <td>143.714294</td>\n",
       "      <td>142.714294</td>\n",
       "      <td>140.714279</td>\n",
       "      <td>139.520416</td>\n",
       "      <td>11.0</td>\n",
       "    </tr>\n",
       "    <tr>\n",
       "      <th>3</th>\n",
       "      <td>43.204082</td>\n",
       "      <td>46.928570</td>\n",
       "      <td>51.117348</td>\n",
       "      <td>60.535713</td>\n",
       "      <td>74.551018</td>\n",
       "      <td>64.525513</td>\n",
       "      <td>39.198978</td>\n",
       "      <td>33.285713</td>\n",
       "      <td>33.301022</td>\n",
       "      <td>38.561207</td>\n",
       "      <td>...</td>\n",
       "      <td>136.061142</td>\n",
       "      <td>137.928574</td>\n",
       "      <td>137.000000</td>\n",
       "      <td>136.729599</td>\n",
       "      <td>137.857147</td>\n",
       "      <td>137.857147</td>\n",
       "      <td>134.285721</td>\n",
       "      <td>131.872452</td>\n",
       "      <td>130.178589</td>\n",
       "      <td>3.0</td>\n",
       "    </tr>\n",
       "    <tr>\n",
       "      <th>4</th>\n",
       "      <td>85.780617</td>\n",
       "      <td>77.040817</td>\n",
       "      <td>83.571426</td>\n",
       "      <td>88.071426</td>\n",
       "      <td>93.015312</td>\n",
       "      <td>101.887749</td>\n",
       "      <td>121.045921</td>\n",
       "      <td>118.959190</td>\n",
       "      <td>178.387787</td>\n",
       "      <td>245.561218</td>\n",
       "      <td>...</td>\n",
       "      <td>134.801025</td>\n",
       "      <td>132.862244</td>\n",
       "      <td>129.642868</td>\n",
       "      <td>125.515320</td>\n",
       "      <td>117.637764</td>\n",
       "      <td>114.500000</td>\n",
       "      <td>118.357147</td>\n",
       "      <td>120.943893</td>\n",
       "      <td>122.454094</td>\n",
       "      <td>23.0</td>\n",
       "    </tr>\n",
       "  </tbody>\n",
       "</table>\n",
       "<p>5 rows × 785 columns</p>\n",
       "</div>"
      ],
      "text/plain": [
       "       pixel1      pixel2      pixel3      pixel4      pixel5      pixel6  \\\n",
       "0   95.331635   95.739792   94.285713  102.821426  107.091835  112.045914   \n",
       "1   84.923470   87.382652   88.469391   89.964287   89.709183   99.357147   \n",
       "2  127.484695  121.811226  121.479584  130.107147  153.336731  151.127548   \n",
       "3   43.204082   46.928570   51.117348   60.535713   74.551018   64.525513   \n",
       "4   85.780617   77.040817   83.571426   88.071426   93.015312  101.887749   \n",
       "\n",
       "       pixel7      pixel8      pixel9     pixel10  ...    pixel776  \\\n",
       "0  141.122452  127.112244  174.158173  244.127548  ...  135.928574   \n",
       "1  127.714279  122.841827  186.949005  245.438782  ...  135.071411   \n",
       "2  153.224487  151.209183  148.642868  149.617355  ...  146.714294   \n",
       "3   39.198978   33.285713   33.301022   38.561207  ...  136.061142   \n",
       "4  121.045921  118.959190  178.387787  245.561218  ...  134.801025   \n",
       "\n",
       "     pixel777    pixel778    pixel779    pixel780    pixel781    pixel782  \\\n",
       "0  144.918365  145.576538  137.770416  136.142853  129.821442  128.831635   \n",
       "1  130.642868  125.000000  128.673477  130.000000  122.750008  122.500000   \n",
       "2  145.785721  144.576538  142.928574  142.612259  143.714294  142.714294   \n",
       "3  137.928574  137.000000  136.729599  137.857147  137.857147  134.285721   \n",
       "4  132.862244  129.642868  125.515320  117.637764  114.500000  118.357147   \n",
       "\n",
       "     pixel783    pixel784  label  \n",
       "0  134.229584  137.877548   12.0  \n",
       "1  119.571442  126.020409   27.0  \n",
       "2  140.714279  139.520416   11.0  \n",
       "3  131.872452  130.178589    3.0  \n",
       "4  120.943893  122.454094   23.0  \n",
       "\n",
       "[5 rows x 785 columns]"
      ]
     },
     "execution_count": 26,
     "metadata": {},
     "output_type": "execute_result"
    }
   ],
   "source": [
    "#Drop the column 'Unnamed: 0'\n",
    "train_ASL = train_ASL.drop(columns='Unnamed: 0')\n",
    "train_ASL.head()"
   ]
  },
  {
   "cell_type": "code",
   "execution_count": 27,
   "id": "c2074d95",
   "metadata": {},
   "outputs": [
    {
     "name": "stdout",
     "output_type": "stream",
     "text": [
      "0\n"
     ]
    }
   ],
   "source": [
    "#Let's see if there are any missing values in this set\n",
    "print(train_ASL.isnull().any().sum())"
   ]
  },
  {
   "cell_type": "code",
   "execution_count": 28,
   "id": "d3b35d17",
   "metadata": {},
   "outputs": [
    {
     "name": "stdout",
     "output_type": "stream",
     "text": [
      "<class 'pandas.core.frame.DataFrame'>\n",
      "RangeIndex: 84000 entries, 0 to 83999\n",
      "Columns: 785 entries, pixel1 to label\n",
      "dtypes: float64(785)\n",
      "memory usage: 503.1 MB\n"
     ]
    }
   ],
   "source": [
    "train_ASL.info()"
   ]
  },
  {
   "cell_type": "code",
   "execution_count": 29,
   "id": "8307b3e1",
   "metadata": {},
   "outputs": [
    {
     "data": {
      "text/plain": [
       "(84000, 785)"
      ]
     },
     "execution_count": 29,
     "metadata": {},
     "output_type": "execute_result"
    }
   ],
   "source": [
    "train_ASL.shape"
   ]
  },
  {
   "cell_type": "markdown",
   "id": "720275bf",
   "metadata": {},
   "source": [
    "The number of columns is correct but the data type is float, contrary to the MNIST set. I will have to make sure that all three datasets have the dtype as float."
   ]
  },
  {
   "cell_type": "code",
   "execution_count": 30,
   "id": "2993d42d",
   "metadata": {},
   "outputs": [
    {
     "name": "stdout",
     "output_type": "stream",
     "text": [
      "0\n"
     ]
    }
   ],
   "source": [
    "#Let's check if there are no negative values nor values over 255\n",
    "print((((train_ASL >= 0) & (train_ASL <= 255)) == 0).any().sum())"
   ]
  },
  {
   "cell_type": "code",
   "execution_count": 31,
   "id": "2f009711",
   "metadata": {},
   "outputs": [
    {
     "data": {
      "text/plain": [
       "{0.0: 'A',\n",
       " 1.0: 'B',\n",
       " 2.0: 'C',\n",
       " 3.0: 'D',\n",
       " 4.0: 'E',\n",
       " 5.0: 'F',\n",
       " 6.0: 'G',\n",
       " 7.0: 'H',\n",
       " 8.0: 'I',\n",
       " 9.0: 'J',\n",
       " 10.0: 'K',\n",
       " 11.0: 'L',\n",
       " 12.0: 'M',\n",
       " 13.0: 'N',\n",
       " 14.0: 'O',\n",
       " 15.0: 'P',\n",
       " 16.0: 'Q',\n",
       " 17.0: 'R',\n",
       " 18.0: 'S',\n",
       " 19.0: 'T',\n",
       " 20.0: 'U',\n",
       " 21.0: 'V',\n",
       " 22.0: 'W',\n",
       " 23.0: 'X',\n",
       " 24.0: 'Y',\n",
       " 25.0: 'Z',\n",
       " 26.0: 'del',\n",
       " 27.0: 'space'}"
      ]
     },
     "execution_count": 31,
     "metadata": {},
     "output_type": "execute_result"
    }
   ],
   "source": [
    "#Let's create another dictionary with the 28 classes of this set\n",
    "alphabet = [value for value in string.ascii_uppercase]\n",
    "alphabet = alphabet + ['del','space']\n",
    "classes = sorted(train_ASL['label'].unique().tolist())\n",
    "dict_classes = dict(zip(classes, alphabet))\n",
    "dict_classes"
   ]
  },
  {
   "cell_type": "code",
   "execution_count": 32,
   "id": "a99d5f0d",
   "metadata": {},
   "outputs": [
    {
     "data": {
      "image/png": "[encoded data removed]",
      "text/plain": [
       "<Figure size 720x432 with 1 Axes>"
      ]
     },
     "metadata": {
      "needs_background": "light"
     },
     "output_type": "display_data"
    }
   ],
   "source": [
    "#Let's check the balance of classes in this set\n",
    "plt.figure(figsize = (10,6))\n",
    "sns.countplot(train_ASL['label'], color='g')\n",
    "plt.title('Count of each class in the set')\n",
    "plt.xlabel('Classes')\n",
    "plt.show()"
   ]
  },
  {
   "cell_type": "markdown",
   "id": "54e62fdf",
   "metadata": {},
   "source": [
    "The ASL dataset seems perfectly balanced with 3,000 images per class. This will help with the little unbalanced classes of the MNIST set. Let's now get the third set ready.<br><br>I made this last set by taking 1,000 pictures of every of the 28 classes included in the ASL set. Let's make sure that the classes are balanced and ready. "
   ]
  },
  {
   "cell_type": "code",
   "execution_count": 33,
   "id": "37171642",
   "metadata": {},
   "outputs": [
    {
     "data": {
      "text/plain": [
       "(28, 28)"
      ]
     },
     "execution_count": 33,
     "metadata": {},
     "output_type": "execute_result"
    }
   ],
   "source": [
    "#Let's check one image sample of this set\n",
    "img = Image.open('DATA/A/Image_1661693786.429059.jpg')\n",
    "img = np.asarray(img)\n",
    "img.shape"
   ]
  },
  {
   "cell_type": "code",
   "execution_count": 34,
   "id": "19dd9377",
   "metadata": {},
   "outputs": [
    {
     "data": {
      "image/png": "[encoded data removed]",
      "text/plain": [
       "<Figure size 432x288 with 1 Axes>"
      ]
     },
     "metadata": {
      "needs_background": "light"
     },
     "output_type": "display_data"
    }
   ],
   "source": [
    "plt.imshow(img, cmap='gray')\n",
    "plt.title('Image for the letter A')\n",
    "plt.show()"
   ]
  },
  {
   "cell_type": "markdown",
   "id": "63391bc7",
   "metadata": {},
   "source": [
    "It is clear that the quality of the image is lower than the original images in the ASL set. In this case, I will use the images with this size to decrease the computational time for the training of the model."
   ]
  },
  {
   "cell_type": "code",
   "execution_count": 35,
   "id": "4dc51aa0",
   "metadata": {},
   "outputs": [
    {
     "name": "stdout",
     "output_type": "stream",
     "text": [
      "Found 28000 files belonging to 28 classes.\n"
     ]
    }
   ],
   "source": [
    "#I will do the same steps as with the ASL set\n",
    "directory = 'DATA'\n",
    "\n",
    "train = keras.utils.image_dataset_from_directory(\n",
    "    directory,\n",
    "    labels=\"inferred\", #labels are inferred from the labeled subfolders\n",
    "    label_mode=\"int\", #labels will be as integers\n",
    "    seed = 0,\n",
    "    color_mode=\"grayscale\", #change to grayscale\n",
    "    batch_size=28, #change batch size to 28 so there are no incomplete batches since the set has 28,000 images \n",
    "    image_size=(28, 28), #resize the images\n",
    "    shuffle=True\n",
    ")\n",
    "\n",
    "#Convert the output to an array\n",
    "train_arr = tfds.as_numpy(train)"
   ]
  },
  {
   "cell_type": "code",
   "execution_count": 36,
   "id": "322fe452",
   "metadata": {},
   "outputs": [],
   "source": [
    "#Use the function that was created before with the ASL set\n",
    "dataset = transform_to_dataframe(train_arr, 28)"
   ]
  },
  {
   "cell_type": "code",
   "execution_count": 37,
   "id": "54967386",
   "metadata": {},
   "outputs": [],
   "source": [
    "#Save the set with the webcam images information\n",
    "dataset.to_csv('APPLE_CAM_train.csv')"
   ]
  },
  {
   "cell_type": "code",
   "execution_count": 38,
   "id": "71583e59",
   "metadata": {},
   "outputs": [
    {
     "data": {
      "text/plain": [
       "(28000, 786)"
      ]
     },
     "execution_count": 38,
     "metadata": {},
     "output_type": "execute_result"
    }
   ],
   "source": [
    "#Read the saved dataset for webcam images\n",
    "train_APPLE_CAM = pd.read_csv('APPLE_CAM_train.csv')\n",
    "train_APPLE_CAM.shape"
   ]
  },
  {
   "cell_type": "code",
   "execution_count": 39,
   "id": "234d68e9",
   "metadata": {},
   "outputs": [
    {
     "data": {
      "text/html": [
       "<div>\n",
       "<style scoped>\n",
       "    .dataframe tbody tr th:only-of-type {\n",
       "        vertical-align: middle;\n",
       "    }\n",
       "\n",
       "    .dataframe tbody tr th {\n",
       "        vertical-align: top;\n",
       "    }\n",
       "\n",
       "    .dataframe thead th {\n",
       "        text-align: right;\n",
       "    }\n",
       "</style>\n",
       "<table border=\"1\" class=\"dataframe\">\n",
       "  <thead>\n",
       "    <tr style=\"text-align: right;\">\n",
       "      <th></th>\n",
       "      <th>pixel1</th>\n",
       "      <th>pixel2</th>\n",
       "      <th>pixel3</th>\n",
       "      <th>pixel4</th>\n",
       "      <th>pixel5</th>\n",
       "      <th>pixel6</th>\n",
       "      <th>pixel7</th>\n",
       "      <th>pixel8</th>\n",
       "      <th>pixel9</th>\n",
       "      <th>pixel10</th>\n",
       "      <th>...</th>\n",
       "      <th>pixel776</th>\n",
       "      <th>pixel777</th>\n",
       "      <th>pixel778</th>\n",
       "      <th>pixel779</th>\n",
       "      <th>pixel780</th>\n",
       "      <th>pixel781</th>\n",
       "      <th>pixel782</th>\n",
       "      <th>pixel783</th>\n",
       "      <th>pixel784</th>\n",
       "      <th>label</th>\n",
       "    </tr>\n",
       "  </thead>\n",
       "  <tbody>\n",
       "    <tr>\n",
       "      <th>0</th>\n",
       "      <td>255.0</td>\n",
       "      <td>255.0</td>\n",
       "      <td>255.0</td>\n",
       "      <td>255.0</td>\n",
       "      <td>255.0</td>\n",
       "      <td>255.0</td>\n",
       "      <td>255.0</td>\n",
       "      <td>255.0</td>\n",
       "      <td>255.0</td>\n",
       "      <td>255.0</td>\n",
       "      <td>...</td>\n",
       "      <td>255.0</td>\n",
       "      <td>255.0</td>\n",
       "      <td>255.0</td>\n",
       "      <td>255.0</td>\n",
       "      <td>255.0</td>\n",
       "      <td>255.0</td>\n",
       "      <td>255.0</td>\n",
       "      <td>255.0</td>\n",
       "      <td>255.0</td>\n",
       "      <td>8.0</td>\n",
       "    </tr>\n",
       "    <tr>\n",
       "      <th>1</th>\n",
       "      <td>255.0</td>\n",
       "      <td>255.0</td>\n",
       "      <td>255.0</td>\n",
       "      <td>255.0</td>\n",
       "      <td>168.0</td>\n",
       "      <td>171.0</td>\n",
       "      <td>168.0</td>\n",
       "      <td>166.0</td>\n",
       "      <td>172.0</td>\n",
       "      <td>178.0</td>\n",
       "      <td>...</td>\n",
       "      <td>139.0</td>\n",
       "      <td>141.0</td>\n",
       "      <td>134.0</td>\n",
       "      <td>131.0</td>\n",
       "      <td>132.0</td>\n",
       "      <td>255.0</td>\n",
       "      <td>255.0</td>\n",
       "      <td>255.0</td>\n",
       "      <td>255.0</td>\n",
       "      <td>6.0</td>\n",
       "    </tr>\n",
       "    <tr>\n",
       "      <th>2</th>\n",
       "      <td>255.0</td>\n",
       "      <td>255.0</td>\n",
       "      <td>255.0</td>\n",
       "      <td>134.0</td>\n",
       "      <td>135.0</td>\n",
       "      <td>128.0</td>\n",
       "      <td>126.0</td>\n",
       "      <td>123.0</td>\n",
       "      <td>129.0</td>\n",
       "      <td>129.0</td>\n",
       "      <td>...</td>\n",
       "      <td>231.0</td>\n",
       "      <td>214.0</td>\n",
       "      <td>157.0</td>\n",
       "      <td>0.0</td>\n",
       "      <td>20.0</td>\n",
       "      <td>9.0</td>\n",
       "      <td>251.0</td>\n",
       "      <td>251.0</td>\n",
       "      <td>250.0</td>\n",
       "      <td>15.0</td>\n",
       "    </tr>\n",
       "    <tr>\n",
       "      <th>3</th>\n",
       "      <td>255.0</td>\n",
       "      <td>255.0</td>\n",
       "      <td>255.0</td>\n",
       "      <td>255.0</td>\n",
       "      <td>255.0</td>\n",
       "      <td>255.0</td>\n",
       "      <td>255.0</td>\n",
       "      <td>255.0</td>\n",
       "      <td>255.0</td>\n",
       "      <td>255.0</td>\n",
       "      <td>...</td>\n",
       "      <td>255.0</td>\n",
       "      <td>255.0</td>\n",
       "      <td>255.0</td>\n",
       "      <td>255.0</td>\n",
       "      <td>255.0</td>\n",
       "      <td>255.0</td>\n",
       "      <td>255.0</td>\n",
       "      <td>255.0</td>\n",
       "      <td>255.0</td>\n",
       "      <td>20.0</td>\n",
       "    </tr>\n",
       "    <tr>\n",
       "      <th>4</th>\n",
       "      <td>255.0</td>\n",
       "      <td>255.0</td>\n",
       "      <td>255.0</td>\n",
       "      <td>254.0</td>\n",
       "      <td>254.0</td>\n",
       "      <td>253.0</td>\n",
       "      <td>255.0</td>\n",
       "      <td>181.0</td>\n",
       "      <td>181.0</td>\n",
       "      <td>185.0</td>\n",
       "      <td>...</td>\n",
       "      <td>126.0</td>\n",
       "      <td>121.0</td>\n",
       "      <td>254.0</td>\n",
       "      <td>255.0</td>\n",
       "      <td>255.0</td>\n",
       "      <td>255.0</td>\n",
       "      <td>255.0</td>\n",
       "      <td>255.0</td>\n",
       "      <td>255.0</td>\n",
       "      <td>25.0</td>\n",
       "    </tr>\n",
       "  </tbody>\n",
       "</table>\n",
       "<p>5 rows × 785 columns</p>\n",
       "</div>"
      ],
      "text/plain": [
       "   pixel1  pixel2  pixel3  pixel4  pixel5  pixel6  pixel7  pixel8  pixel9  \\\n",
       "0   255.0   255.0   255.0   255.0   255.0   255.0   255.0   255.0   255.0   \n",
       "1   255.0   255.0   255.0   255.0   168.0   171.0   168.0   166.0   172.0   \n",
       "2   255.0   255.0   255.0   134.0   135.0   128.0   126.0   123.0   129.0   \n",
       "3   255.0   255.0   255.0   255.0   255.0   255.0   255.0   255.0   255.0   \n",
       "4   255.0   255.0   255.0   254.0   254.0   253.0   255.0   181.0   181.0   \n",
       "\n",
       "   pixel10  ...  pixel776  pixel777  pixel778  pixel779  pixel780  pixel781  \\\n",
       "0    255.0  ...     255.0     255.0     255.0     255.0     255.0     255.0   \n",
       "1    178.0  ...     139.0     141.0     134.0     131.0     132.0     255.0   \n",
       "2    129.0  ...     231.0     214.0     157.0       0.0      20.0       9.0   \n",
       "3    255.0  ...     255.0     255.0     255.0     255.0     255.0     255.0   \n",
       "4    185.0  ...     126.0     121.0     254.0     255.0     255.0     255.0   \n",
       "\n",
       "   pixel782  pixel783  pixel784  label  \n",
       "0     255.0     255.0     255.0    8.0  \n",
       "1     255.0     255.0     255.0    6.0  \n",
       "2     251.0     251.0     250.0   15.0  \n",
       "3     255.0     255.0     255.0   20.0  \n",
       "4     255.0     255.0     255.0   25.0  \n",
       "\n",
       "[5 rows x 785 columns]"
      ]
     },
     "execution_count": 39,
     "metadata": {},
     "output_type": "execute_result"
    }
   ],
   "source": [
    "#This set also has an unwanted column, let's drop it\n",
    "train_APPLE_CAM = train_APPLE_CAM.drop(columns='Unnamed: 0')\n",
    "train_APPLE_CAM.head()"
   ]
  },
  {
   "cell_type": "code",
   "execution_count": 40,
   "id": "9e88e2b3",
   "metadata": {},
   "outputs": [
    {
     "name": "stdout",
     "output_type": "stream",
     "text": [
      "0\n"
     ]
    }
   ],
   "source": [
    "#Let's see if there are any missing values in this set\n",
    "print(train_APPLE_CAM.isnull().any().sum())"
   ]
  },
  {
   "cell_type": "code",
   "execution_count": 41,
   "id": "c60fe073",
   "metadata": {},
   "outputs": [
    {
     "name": "stdout",
     "output_type": "stream",
     "text": [
      "<class 'pandas.core.frame.DataFrame'>\n",
      "RangeIndex: 28000 entries, 0 to 27999\n",
      "Columns: 785 entries, pixel1 to label\n",
      "dtypes: float64(785)\n",
      "memory usage: 167.7 MB\n"
     ]
    }
   ],
   "source": [
    "#Let's check the number of columns and dtype\n",
    "train_APPLE_CAM.info()"
   ]
  },
  {
   "cell_type": "code",
   "execution_count": 42,
   "id": "9a81e06e",
   "metadata": {},
   "outputs": [
    {
     "name": "stdout",
     "output_type": "stream",
     "text": [
      "0\n"
     ]
    }
   ],
   "source": [
    "#Let's check if there are no negative values nor values over 255\n",
    "print((((train_APPLE_CAM >= 0) & (train_APPLE_CAM <= 255)) == 0).any().sum())"
   ]
  },
  {
   "cell_type": "code",
   "execution_count": 43,
   "id": "a1d35c0e",
   "metadata": {},
   "outputs": [
    {
     "data": {
      "image/png": "[encoded data removed]",
      "text/plain": [
       "<Figure size 720x432 with 1 Axes>"
      ]
     },
     "metadata": {
      "needs_background": "light"
     },
     "output_type": "display_data"
    }
   ],
   "source": [
    "#Let's check the balance of classes in this set\n",
    "plt.figure(figsize = (10,6))\n",
    "sns.countplot(train_APPLE_CAM['label'], color='g')\n",
    "plt.title('Count of each class in the set')\n",
    "plt.xlabel('Classes')\n",
    "plt.show()"
   ]
  },
  {
   "cell_type": "markdown",
   "id": "cad0d1d5",
   "metadata": {},
   "source": [
    "Just as expected, the classes are balanced with 1,000 images per class. Also, there are no null or negative values in the last dataset.<br><br>\n",
    "Now, let's put all the information together before proceeding to make the train and test splits. Additionally, I will make a test set which includes the test_MNIST set."
   ]
  },
  {
   "cell_type": "code",
   "execution_count": 44,
   "id": "0683bd7d",
   "metadata": {},
   "outputs": [
    {
     "data": {
      "text/plain": [
       "((84000,), (27455,), (28000,))"
      ]
     },
     "execution_count": 44,
     "metadata": {},
     "output_type": "execute_result"
    }
   ],
   "source": [
    "#Create y_train variables for each of the three sets\n",
    "y_train_ASL = train_ASL['label']\n",
    "y_train_MNIST = train_MNIST['label']\n",
    "y_train_APPLE_CAM = train_APPLE_CAM['label']\n",
    "y_train_ASL.shape, y_train_MNIST.shape, y_train_APPLE_CAM.shape"
   ]
  },
  {
   "cell_type": "code",
   "execution_count": 45,
   "id": "0ce7c19c",
   "metadata": {},
   "outputs": [
    {
     "data": {
      "text/plain": [
       "(28, 24, 28)"
      ]
     },
     "execution_count": 45,
     "metadata": {},
     "output_type": "execute_result"
    }
   ],
   "source": [
    "#There is some preprocessing to do to match all sets to 28 classes\n",
    "len(y_train_ASL.value_counts()), len(y_train_MNIST.value_counts()), len(y_train_APPLE_CAM.value_counts())"
   ]
  },
  {
   "cell_type": "code",
   "execution_count": 46,
   "id": "4ec66f59",
   "metadata": {},
   "outputs": [
    {
     "data": {
      "text/html": [
       "<div>\n",
       "<style scoped>\n",
       "    .dataframe tbody tr th:only-of-type {\n",
       "        vertical-align: middle;\n",
       "    }\n",
       "\n",
       "    .dataframe tbody tr th {\n",
       "        vertical-align: top;\n",
       "    }\n",
       "\n",
       "    .dataframe thead th {\n",
       "        text-align: right;\n",
       "    }\n",
       "</style>\n",
       "<table border=\"1\" class=\"dataframe\">\n",
       "  <thead>\n",
       "    <tr style=\"text-align: right;\">\n",
       "      <th></th>\n",
       "      <th>pixel1</th>\n",
       "      <th>pixel2</th>\n",
       "      <th>pixel3</th>\n",
       "      <th>pixel4</th>\n",
       "      <th>pixel5</th>\n",
       "      <th>pixel6</th>\n",
       "      <th>pixel7</th>\n",
       "      <th>pixel8</th>\n",
       "      <th>pixel9</th>\n",
       "      <th>pixel10</th>\n",
       "      <th>...</th>\n",
       "      <th>pixel776</th>\n",
       "      <th>pixel777</th>\n",
       "      <th>pixel778</th>\n",
       "      <th>pixel779</th>\n",
       "      <th>pixel780</th>\n",
       "      <th>pixel781</th>\n",
       "      <th>pixel782</th>\n",
       "      <th>pixel783</th>\n",
       "      <th>pixel784</th>\n",
       "      <th>label</th>\n",
       "    </tr>\n",
       "  </thead>\n",
       "  <tbody>\n",
       "    <tr>\n",
       "      <th>0</th>\n",
       "      <td>107</td>\n",
       "      <td>118</td>\n",
       "      <td>127</td>\n",
       "      <td>134</td>\n",
       "      <td>139</td>\n",
       "      <td>143</td>\n",
       "      <td>146</td>\n",
       "      <td>150</td>\n",
       "      <td>153</td>\n",
       "      <td>156</td>\n",
       "      <td>...</td>\n",
       "      <td>207</td>\n",
       "      <td>207</td>\n",
       "      <td>207</td>\n",
       "      <td>206</td>\n",
       "      <td>206</td>\n",
       "      <td>206</td>\n",
       "      <td>204</td>\n",
       "      <td>203</td>\n",
       "      <td>202</td>\n",
       "      <td>3</td>\n",
       "    </tr>\n",
       "    <tr>\n",
       "      <th>1</th>\n",
       "      <td>155</td>\n",
       "      <td>157</td>\n",
       "      <td>156</td>\n",
       "      <td>156</td>\n",
       "      <td>156</td>\n",
       "      <td>157</td>\n",
       "      <td>156</td>\n",
       "      <td>158</td>\n",
       "      <td>158</td>\n",
       "      <td>157</td>\n",
       "      <td>...</td>\n",
       "      <td>149</td>\n",
       "      <td>128</td>\n",
       "      <td>87</td>\n",
       "      <td>94</td>\n",
       "      <td>163</td>\n",
       "      <td>175</td>\n",
       "      <td>103</td>\n",
       "      <td>135</td>\n",
       "      <td>149</td>\n",
       "      <td>6</td>\n",
       "    </tr>\n",
       "    <tr>\n",
       "      <th>2</th>\n",
       "      <td>187</td>\n",
       "      <td>188</td>\n",
       "      <td>188</td>\n",
       "      <td>187</td>\n",
       "      <td>187</td>\n",
       "      <td>186</td>\n",
       "      <td>187</td>\n",
       "      <td>188</td>\n",
       "      <td>187</td>\n",
       "      <td>186</td>\n",
       "      <td>...</td>\n",
       "      <td>201</td>\n",
       "      <td>200</td>\n",
       "      <td>199</td>\n",
       "      <td>198</td>\n",
       "      <td>199</td>\n",
       "      <td>198</td>\n",
       "      <td>195</td>\n",
       "      <td>194</td>\n",
       "      <td>195</td>\n",
       "      <td>2</td>\n",
       "    </tr>\n",
       "    <tr>\n",
       "      <th>3</th>\n",
       "      <td>211</td>\n",
       "      <td>211</td>\n",
       "      <td>212</td>\n",
       "      <td>212</td>\n",
       "      <td>211</td>\n",
       "      <td>210</td>\n",
       "      <td>211</td>\n",
       "      <td>210</td>\n",
       "      <td>210</td>\n",
       "      <td>211</td>\n",
       "      <td>...</td>\n",
       "      <td>234</td>\n",
       "      <td>233</td>\n",
       "      <td>231</td>\n",
       "      <td>230</td>\n",
       "      <td>226</td>\n",
       "      <td>225</td>\n",
       "      <td>222</td>\n",
       "      <td>229</td>\n",
       "      <td>163</td>\n",
       "      <td>2</td>\n",
       "    </tr>\n",
       "    <tr>\n",
       "      <th>4</th>\n",
       "      <td>164</td>\n",
       "      <td>167</td>\n",
       "      <td>170</td>\n",
       "      <td>172</td>\n",
       "      <td>176</td>\n",
       "      <td>179</td>\n",
       "      <td>180</td>\n",
       "      <td>184</td>\n",
       "      <td>185</td>\n",
       "      <td>186</td>\n",
       "      <td>...</td>\n",
       "      <td>105</td>\n",
       "      <td>105</td>\n",
       "      <td>108</td>\n",
       "      <td>133</td>\n",
       "      <td>163</td>\n",
       "      <td>157</td>\n",
       "      <td>163</td>\n",
       "      <td>164</td>\n",
       "      <td>179</td>\n",
       "      <td>13</td>\n",
       "    </tr>\n",
       "  </tbody>\n",
       "</table>\n",
       "<p>5 rows × 785 columns</p>\n",
       "</div>"
      ],
      "text/plain": [
       "   pixel1  pixel2  pixel3  pixel4  pixel5  pixel6  pixel7  pixel8  pixel9  \\\n",
       "0     107     118     127     134     139     143     146     150     153   \n",
       "1     155     157     156     156     156     157     156     158     158   \n",
       "2     187     188     188     187     187     186     187     188     187   \n",
       "3     211     211     212     212     211     210     211     210     210   \n",
       "4     164     167     170     172     176     179     180     184     185   \n",
       "\n",
       "   pixel10  ...  pixel776  pixel777  pixel778  pixel779  pixel780  pixel781  \\\n",
       "0      156  ...       207       207       207       206       206       206   \n",
       "1      157  ...       149       128        87        94       163       175   \n",
       "2      186  ...       201       200       199       198       199       198   \n",
       "3      211  ...       234       233       231       230       226       225   \n",
       "4      186  ...       105       105       108       133       163       157   \n",
       "\n",
       "   pixel782  pixel783  pixel784  label  \n",
       "0       204       203       202      3  \n",
       "1       103       135       149      6  \n",
       "2       195       194       195      2  \n",
       "3       222       229       163      2  \n",
       "4       163       164       179     13  \n",
       "\n",
       "[5 rows x 785 columns]"
      ]
     },
     "execution_count": 46,
     "metadata": {},
     "output_type": "execute_result"
    }
   ],
   "source": [
    "#Move the label column to the end position in the MNIST set. \n",
    "#This way all three set will have the same column structure.\n",
    "train_MNIST = train_MNIST.drop(columns=['label'])\n",
    "train_MNIST.insert(784, 'label', y_train_MNIST)\n",
    "train_MNIST.head()"
   ]
  },
  {
   "cell_type": "code",
   "execution_count": 47,
   "id": "2055a901",
   "metadata": {},
   "outputs": [],
   "source": [
    "#All information needs to be in float dtype\n",
    "train_MNIST = train_MNIST.astype('float32')\n",
    "train_ASL = train_ASL.astype('float32')\n",
    "train_APPLE_CAM = train_APPLE_CAM.astype('float32')"
   ]
  },
  {
   "cell_type": "code",
   "execution_count": 48,
   "id": "65080abf",
   "metadata": {},
   "outputs": [
    {
     "data": {
      "text/plain": [
       "(139455, 785)"
      ]
     },
     "execution_count": 48,
     "metadata": {},
     "output_type": "execute_result"
    }
   ],
   "source": [
    "#I will concatenate all three sets together in the following order: MNIST, APPLE_CAM, ASL\n",
    "train = pd.concat([train_MNIST, train_APPLE_CAM])\n",
    "train = pd.concat([train, train_ASL])\n",
    "train.shape"
   ]
  },
  {
   "cell_type": "code",
   "execution_count": 49,
   "id": "66dcae50",
   "metadata": {},
   "outputs": [],
   "source": [
    "#Let's reset the index to avoid keeping the index from the original sets\n",
    "train = train.reset_index().sort_values(by=['index'])\n",
    "train = train.drop(columns='index').reset_index(drop=True)"
   ]
  },
  {
   "cell_type": "code",
   "execution_count": 50,
   "id": "d7ae4e1f",
   "metadata": {},
   "outputs": [
    {
     "data": {
      "text/html": [
       "<div>\n",
       "<style scoped>\n",
       "    .dataframe tbody tr th:only-of-type {\n",
       "        vertical-align: middle;\n",
       "    }\n",
       "\n",
       "    .dataframe tbody tr th {\n",
       "        vertical-align: top;\n",
       "    }\n",
       "\n",
       "    .dataframe thead th {\n",
       "        text-align: right;\n",
       "    }\n",
       "</style>\n",
       "<table border=\"1\" class=\"dataframe\">\n",
       "  <thead>\n",
       "    <tr style=\"text-align: right;\">\n",
       "      <th></th>\n",
       "      <th>pixel1</th>\n",
       "      <th>pixel2</th>\n",
       "      <th>pixel3</th>\n",
       "      <th>pixel4</th>\n",
       "      <th>pixel5</th>\n",
       "      <th>pixel6</th>\n",
       "      <th>pixel7</th>\n",
       "      <th>pixel8</th>\n",
       "      <th>pixel9</th>\n",
       "      <th>pixel10</th>\n",
       "      <th>...</th>\n",
       "      <th>pixel776</th>\n",
       "      <th>pixel777</th>\n",
       "      <th>pixel778</th>\n",
       "      <th>pixel779</th>\n",
       "      <th>pixel780</th>\n",
       "      <th>pixel781</th>\n",
       "      <th>pixel782</th>\n",
       "      <th>pixel783</th>\n",
       "      <th>pixel784</th>\n",
       "      <th>label</th>\n",
       "    </tr>\n",
       "  </thead>\n",
       "  <tbody>\n",
       "    <tr>\n",
       "      <th>0</th>\n",
       "      <td>107.000000</td>\n",
       "      <td>118.000000</td>\n",
       "      <td>127.000000</td>\n",
       "      <td>134.000000</td>\n",
       "      <td>139.000000</td>\n",
       "      <td>143.000000</td>\n",
       "      <td>146.000000</td>\n",
       "      <td>150.000000</td>\n",
       "      <td>153.000000</td>\n",
       "      <td>156.000000</td>\n",
       "      <td>...</td>\n",
       "      <td>207.000000</td>\n",
       "      <td>207.000000</td>\n",
       "      <td>207.000000</td>\n",
       "      <td>206.000000</td>\n",
       "      <td>206.000000</td>\n",
       "      <td>206.000000</td>\n",
       "      <td>204.000000</td>\n",
       "      <td>203.000000</td>\n",
       "      <td>202.000000</td>\n",
       "      <td>3.0</td>\n",
       "    </tr>\n",
       "    <tr>\n",
       "      <th>1</th>\n",
       "      <td>255.000000</td>\n",
       "      <td>255.000000</td>\n",
       "      <td>255.000000</td>\n",
       "      <td>255.000000</td>\n",
       "      <td>255.000000</td>\n",
       "      <td>255.000000</td>\n",
       "      <td>255.000000</td>\n",
       "      <td>255.000000</td>\n",
       "      <td>255.000000</td>\n",
       "      <td>255.000000</td>\n",
       "      <td>...</td>\n",
       "      <td>255.000000</td>\n",
       "      <td>255.000000</td>\n",
       "      <td>255.000000</td>\n",
       "      <td>255.000000</td>\n",
       "      <td>255.000000</td>\n",
       "      <td>255.000000</td>\n",
       "      <td>255.000000</td>\n",
       "      <td>255.000000</td>\n",
       "      <td>255.000000</td>\n",
       "      <td>8.0</td>\n",
       "    </tr>\n",
       "    <tr>\n",
       "      <th>2</th>\n",
       "      <td>95.331635</td>\n",
       "      <td>95.739792</td>\n",
       "      <td>94.285713</td>\n",
       "      <td>102.821426</td>\n",
       "      <td>107.091835</td>\n",
       "      <td>112.045914</td>\n",
       "      <td>141.122452</td>\n",
       "      <td>127.112244</td>\n",
       "      <td>174.158173</td>\n",
       "      <td>244.127548</td>\n",
       "      <td>...</td>\n",
       "      <td>135.928574</td>\n",
       "      <td>144.918365</td>\n",
       "      <td>145.576538</td>\n",
       "      <td>137.770416</td>\n",
       "      <td>136.142853</td>\n",
       "      <td>129.821442</td>\n",
       "      <td>128.831635</td>\n",
       "      <td>134.229584</td>\n",
       "      <td>137.877548</td>\n",
       "      <td>12.0</td>\n",
       "    </tr>\n",
       "    <tr>\n",
       "      <th>3</th>\n",
       "      <td>84.923470</td>\n",
       "      <td>87.382652</td>\n",
       "      <td>88.469391</td>\n",
       "      <td>89.964287</td>\n",
       "      <td>89.709183</td>\n",
       "      <td>99.357147</td>\n",
       "      <td>127.714279</td>\n",
       "      <td>122.841827</td>\n",
       "      <td>186.949005</td>\n",
       "      <td>245.438782</td>\n",
       "      <td>...</td>\n",
       "      <td>135.071411</td>\n",
       "      <td>130.642868</td>\n",
       "      <td>125.000000</td>\n",
       "      <td>128.673477</td>\n",
       "      <td>130.000000</td>\n",
       "      <td>122.750008</td>\n",
       "      <td>122.500000</td>\n",
       "      <td>119.571442</td>\n",
       "      <td>126.020409</td>\n",
       "      <td>27.0</td>\n",
       "    </tr>\n",
       "    <tr>\n",
       "      <th>4</th>\n",
       "      <td>155.000000</td>\n",
       "      <td>157.000000</td>\n",
       "      <td>156.000000</td>\n",
       "      <td>156.000000</td>\n",
       "      <td>156.000000</td>\n",
       "      <td>157.000000</td>\n",
       "      <td>156.000000</td>\n",
       "      <td>158.000000</td>\n",
       "      <td>158.000000</td>\n",
       "      <td>157.000000</td>\n",
       "      <td>...</td>\n",
       "      <td>149.000000</td>\n",
       "      <td>128.000000</td>\n",
       "      <td>87.000000</td>\n",
       "      <td>94.000000</td>\n",
       "      <td>163.000000</td>\n",
       "      <td>175.000000</td>\n",
       "      <td>103.000000</td>\n",
       "      <td>135.000000</td>\n",
       "      <td>149.000000</td>\n",
       "      <td>6.0</td>\n",
       "    </tr>\n",
       "  </tbody>\n",
       "</table>\n",
       "<p>5 rows × 785 columns</p>\n",
       "</div>"
      ],
      "text/plain": [
       "       pixel1      pixel2      pixel3      pixel4      pixel5      pixel6  \\\n",
       "0  107.000000  118.000000  127.000000  134.000000  139.000000  143.000000   \n",
       "1  255.000000  255.000000  255.000000  255.000000  255.000000  255.000000   \n",
       "2   95.331635   95.739792   94.285713  102.821426  107.091835  112.045914   \n",
       "3   84.923470   87.382652   88.469391   89.964287   89.709183   99.357147   \n",
       "4  155.000000  157.000000  156.000000  156.000000  156.000000  157.000000   \n",
       "\n",
       "       pixel7      pixel8      pixel9     pixel10  ...    pixel776  \\\n",
       "0  146.000000  150.000000  153.000000  156.000000  ...  207.000000   \n",
       "1  255.000000  255.000000  255.000000  255.000000  ...  255.000000   \n",
       "2  141.122452  127.112244  174.158173  244.127548  ...  135.928574   \n",
       "3  127.714279  122.841827  186.949005  245.438782  ...  135.071411   \n",
       "4  156.000000  158.000000  158.000000  157.000000  ...  149.000000   \n",
       "\n",
       "     pixel777    pixel778    pixel779    pixel780    pixel781    pixel782  \\\n",
       "0  207.000000  207.000000  206.000000  206.000000  206.000000  204.000000   \n",
       "1  255.000000  255.000000  255.000000  255.000000  255.000000  255.000000   \n",
       "2  144.918365  145.576538  137.770416  136.142853  129.821442  128.831635   \n",
       "3  130.642868  125.000000  128.673477  130.000000  122.750008  122.500000   \n",
       "4  128.000000   87.000000   94.000000  163.000000  175.000000  103.000000   \n",
       "\n",
       "     pixel783    pixel784  label  \n",
       "0  203.000000  202.000000    3.0  \n",
       "1  255.000000  255.000000    8.0  \n",
       "2  134.229584  137.877548   12.0  \n",
       "3  119.571442  126.020409   27.0  \n",
       "4  135.000000  149.000000    6.0  \n",
       "\n",
       "[5 rows x 785 columns]"
      ]
     },
     "execution_count": 50,
     "metadata": {},
     "output_type": "execute_result"
    }
   ],
   "source": [
    "#Let's check the concatenated set\n",
    "train.head()"
   ]
  },
  {
   "cell_type": "markdown",
   "id": "719b7946",
   "metadata": {},
   "source": [
    "The final set, after concatenation, seems correct. It has the float dtype and the columns are in the correct order. Now it's time to make train-test splits to train the model. But first, let's create the test set that will be used to check the performance of the model after training.\n",
    "\n",
    "In order to create the test set, I will split 30,000 images from the train dataset, since it has almost 140,000 observations. The reason for this, is to decrease the amount of images that I will feed into the model, so the computational time is less. I will add these 30,000 images to the test_MNIST set to create the test set."
   ]
  },
  {
   "cell_type": "code",
   "execution_count": 51,
   "id": "453b8604",
   "metadata": {},
   "outputs": [
    {
     "data": {
      "text/html": [
       "<div>\n",
       "<style scoped>\n",
       "    .dataframe tbody tr th:only-of-type {\n",
       "        vertical-align: middle;\n",
       "    }\n",
       "\n",
       "    .dataframe tbody tr th {\n",
       "        vertical-align: top;\n",
       "    }\n",
       "\n",
       "    .dataframe thead th {\n",
       "        text-align: right;\n",
       "    }\n",
       "</style>\n",
       "<table border=\"1\" class=\"dataframe\">\n",
       "  <thead>\n",
       "    <tr style=\"text-align: right;\">\n",
       "      <th></th>\n",
       "      <th>pixel1</th>\n",
       "      <th>pixel2</th>\n",
       "      <th>pixel3</th>\n",
       "      <th>pixel4</th>\n",
       "      <th>pixel5</th>\n",
       "      <th>pixel6</th>\n",
       "      <th>pixel7</th>\n",
       "      <th>pixel8</th>\n",
       "      <th>pixel9</th>\n",
       "      <th>pixel10</th>\n",
       "      <th>...</th>\n",
       "      <th>pixel776</th>\n",
       "      <th>pixel777</th>\n",
       "      <th>pixel778</th>\n",
       "      <th>pixel779</th>\n",
       "      <th>pixel780</th>\n",
       "      <th>pixel781</th>\n",
       "      <th>pixel782</th>\n",
       "      <th>pixel783</th>\n",
       "      <th>pixel784</th>\n",
       "      <th>label</th>\n",
       "    </tr>\n",
       "  </thead>\n",
       "  <tbody>\n",
       "    <tr>\n",
       "      <th>0</th>\n",
       "      <td>149</td>\n",
       "      <td>149</td>\n",
       "      <td>150</td>\n",
       "      <td>150</td>\n",
       "      <td>150</td>\n",
       "      <td>151</td>\n",
       "      <td>151</td>\n",
       "      <td>150</td>\n",
       "      <td>151</td>\n",
       "      <td>152</td>\n",
       "      <td>...</td>\n",
       "      <td>148</td>\n",
       "      <td>127</td>\n",
       "      <td>89</td>\n",
       "      <td>82</td>\n",
       "      <td>96</td>\n",
       "      <td>106</td>\n",
       "      <td>112</td>\n",
       "      <td>120</td>\n",
       "      <td>107</td>\n",
       "      <td>6</td>\n",
       "    </tr>\n",
       "    <tr>\n",
       "      <th>1</th>\n",
       "      <td>126</td>\n",
       "      <td>128</td>\n",
       "      <td>131</td>\n",
       "      <td>132</td>\n",
       "      <td>133</td>\n",
       "      <td>134</td>\n",
       "      <td>135</td>\n",
       "      <td>135</td>\n",
       "      <td>136</td>\n",
       "      <td>138</td>\n",
       "      <td>...</td>\n",
       "      <td>104</td>\n",
       "      <td>194</td>\n",
       "      <td>183</td>\n",
       "      <td>186</td>\n",
       "      <td>184</td>\n",
       "      <td>184</td>\n",
       "      <td>184</td>\n",
       "      <td>182</td>\n",
       "      <td>180</td>\n",
       "      <td>5</td>\n",
       "    </tr>\n",
       "    <tr>\n",
       "      <th>2</th>\n",
       "      <td>85</td>\n",
       "      <td>88</td>\n",
       "      <td>92</td>\n",
       "      <td>96</td>\n",
       "      <td>105</td>\n",
       "      <td>123</td>\n",
       "      <td>135</td>\n",
       "      <td>143</td>\n",
       "      <td>147</td>\n",
       "      <td>152</td>\n",
       "      <td>...</td>\n",
       "      <td>166</td>\n",
       "      <td>242</td>\n",
       "      <td>227</td>\n",
       "      <td>230</td>\n",
       "      <td>227</td>\n",
       "      <td>226</td>\n",
       "      <td>225</td>\n",
       "      <td>224</td>\n",
       "      <td>222</td>\n",
       "      <td>10</td>\n",
       "    </tr>\n",
       "    <tr>\n",
       "      <th>3</th>\n",
       "      <td>203</td>\n",
       "      <td>205</td>\n",
       "      <td>207</td>\n",
       "      <td>206</td>\n",
       "      <td>207</td>\n",
       "      <td>209</td>\n",
       "      <td>210</td>\n",
       "      <td>209</td>\n",
       "      <td>210</td>\n",
       "      <td>209</td>\n",
       "      <td>...</td>\n",
       "      <td>248</td>\n",
       "      <td>247</td>\n",
       "      <td>248</td>\n",
       "      <td>253</td>\n",
       "      <td>236</td>\n",
       "      <td>230</td>\n",
       "      <td>240</td>\n",
       "      <td>253</td>\n",
       "      <td>255</td>\n",
       "      <td>0</td>\n",
       "    </tr>\n",
       "    <tr>\n",
       "      <th>4</th>\n",
       "      <td>188</td>\n",
       "      <td>191</td>\n",
       "      <td>193</td>\n",
       "      <td>195</td>\n",
       "      <td>199</td>\n",
       "      <td>201</td>\n",
       "      <td>202</td>\n",
       "      <td>203</td>\n",
       "      <td>203</td>\n",
       "      <td>203</td>\n",
       "      <td>...</td>\n",
       "      <td>40</td>\n",
       "      <td>64</td>\n",
       "      <td>48</td>\n",
       "      <td>29</td>\n",
       "      <td>46</td>\n",
       "      <td>49</td>\n",
       "      <td>46</td>\n",
       "      <td>46</td>\n",
       "      <td>53</td>\n",
       "      <td>3</td>\n",
       "    </tr>\n",
       "  </tbody>\n",
       "</table>\n",
       "<p>5 rows × 785 columns</p>\n",
       "</div>"
      ],
      "text/plain": [
       "   pixel1  pixel2  pixel3  pixel4  pixel5  pixel6  pixel7  pixel8  pixel9  \\\n",
       "0     149     149     150     150     150     151     151     150     151   \n",
       "1     126     128     131     132     133     134     135     135     136   \n",
       "2      85      88      92      96     105     123     135     143     147   \n",
       "3     203     205     207     206     207     209     210     209     210   \n",
       "4     188     191     193     195     199     201     202     203     203   \n",
       "\n",
       "   pixel10  ...  pixel776  pixel777  pixel778  pixel779  pixel780  pixel781  \\\n",
       "0      152  ...       148       127        89        82        96       106   \n",
       "1      138  ...       104       194       183       186       184       184   \n",
       "2      152  ...       166       242       227       230       227       226   \n",
       "3      209  ...       248       247       248       253       236       230   \n",
       "4      203  ...        40        64        48        29        46        49   \n",
       "\n",
       "   pixel782  pixel783  pixel784  label  \n",
       "0       112       120       107      6  \n",
       "1       184       182       180      5  \n",
       "2       225       224       222     10  \n",
       "3       240       253       255      0  \n",
       "4        46        46        53      3  \n",
       "\n",
       "[5 rows x 785 columns]"
      ]
     },
     "execution_count": 51,
     "metadata": {},
     "output_type": "execute_result"
    }
   ],
   "source": [
    "#First, let's get the test_MNIST set ready\n",
    "#Move the label column to the end position\n",
    "y_test_MNIST = test_MNIST['label']\n",
    "test_MNIST = test_MNIST.drop(columns=['label'])\n",
    "test_MNIST.insert(784, 'label', y_test_MNIST)\n",
    "test_MNIST.head()"
   ]
  },
  {
   "cell_type": "code",
   "execution_count": 52,
   "id": "f333dca5",
   "metadata": {},
   "outputs": [],
   "source": [
    "#Convert the dtype to float\n",
    "test_MNIST = test_MNIST.astype('float32')"
   ]
  },
  {
   "cell_type": "code",
   "execution_count": 53,
   "id": "cf631b27",
   "metadata": {},
   "outputs": [
    {
     "data": {
      "text/html": [
       "<div>\n",
       "<style scoped>\n",
       "    .dataframe tbody tr th:only-of-type {\n",
       "        vertical-align: middle;\n",
       "    }\n",
       "\n",
       "    .dataframe tbody tr th {\n",
       "        vertical-align: top;\n",
       "    }\n",
       "\n",
       "    .dataframe thead th {\n",
       "        text-align: right;\n",
       "    }\n",
       "</style>\n",
       "<table border=\"1\" class=\"dataframe\">\n",
       "  <thead>\n",
       "    <tr style=\"text-align: right;\">\n",
       "      <th></th>\n",
       "      <th>pixel1</th>\n",
       "      <th>pixel2</th>\n",
       "      <th>pixel3</th>\n",
       "      <th>pixel4</th>\n",
       "      <th>pixel5</th>\n",
       "      <th>pixel6</th>\n",
       "      <th>pixel7</th>\n",
       "      <th>pixel8</th>\n",
       "      <th>pixel9</th>\n",
       "      <th>pixel10</th>\n",
       "      <th>...</th>\n",
       "      <th>pixel776</th>\n",
       "      <th>pixel777</th>\n",
       "      <th>pixel778</th>\n",
       "      <th>pixel779</th>\n",
       "      <th>pixel780</th>\n",
       "      <th>pixel781</th>\n",
       "      <th>pixel782</th>\n",
       "      <th>pixel783</th>\n",
       "      <th>pixel784</th>\n",
       "      <th>label</th>\n",
       "    </tr>\n",
       "  </thead>\n",
       "  <tbody>\n",
       "    <tr>\n",
       "      <th>0</th>\n",
       "      <td>149.0</td>\n",
       "      <td>149.0</td>\n",
       "      <td>150.0</td>\n",
       "      <td>150.0</td>\n",
       "      <td>150.0</td>\n",
       "      <td>151.0</td>\n",
       "      <td>151.0</td>\n",
       "      <td>150.0</td>\n",
       "      <td>151.0</td>\n",
       "      <td>152.0</td>\n",
       "      <td>...</td>\n",
       "      <td>148.0</td>\n",
       "      <td>127.0</td>\n",
       "      <td>89.0</td>\n",
       "      <td>82.0</td>\n",
       "      <td>96.0</td>\n",
       "      <td>106.0</td>\n",
       "      <td>112.0</td>\n",
       "      <td>120.0</td>\n",
       "      <td>107.0</td>\n",
       "      <td>6.0</td>\n",
       "    </tr>\n",
       "    <tr>\n",
       "      <th>1</th>\n",
       "      <td>126.0</td>\n",
       "      <td>128.0</td>\n",
       "      <td>131.0</td>\n",
       "      <td>132.0</td>\n",
       "      <td>133.0</td>\n",
       "      <td>134.0</td>\n",
       "      <td>135.0</td>\n",
       "      <td>135.0</td>\n",
       "      <td>136.0</td>\n",
       "      <td>138.0</td>\n",
       "      <td>...</td>\n",
       "      <td>104.0</td>\n",
       "      <td>194.0</td>\n",
       "      <td>183.0</td>\n",
       "      <td>186.0</td>\n",
       "      <td>184.0</td>\n",
       "      <td>184.0</td>\n",
       "      <td>184.0</td>\n",
       "      <td>182.0</td>\n",
       "      <td>180.0</td>\n",
       "      <td>5.0</td>\n",
       "    </tr>\n",
       "    <tr>\n",
       "      <th>2</th>\n",
       "      <td>85.0</td>\n",
       "      <td>88.0</td>\n",
       "      <td>92.0</td>\n",
       "      <td>96.0</td>\n",
       "      <td>105.0</td>\n",
       "      <td>123.0</td>\n",
       "      <td>135.0</td>\n",
       "      <td>143.0</td>\n",
       "      <td>147.0</td>\n",
       "      <td>152.0</td>\n",
       "      <td>...</td>\n",
       "      <td>166.0</td>\n",
       "      <td>242.0</td>\n",
       "      <td>227.0</td>\n",
       "      <td>230.0</td>\n",
       "      <td>227.0</td>\n",
       "      <td>226.0</td>\n",
       "      <td>225.0</td>\n",
       "      <td>224.0</td>\n",
       "      <td>222.0</td>\n",
       "      <td>10.0</td>\n",
       "    </tr>\n",
       "    <tr>\n",
       "      <th>3</th>\n",
       "      <td>203.0</td>\n",
       "      <td>205.0</td>\n",
       "      <td>207.0</td>\n",
       "      <td>206.0</td>\n",
       "      <td>207.0</td>\n",
       "      <td>209.0</td>\n",
       "      <td>210.0</td>\n",
       "      <td>209.0</td>\n",
       "      <td>210.0</td>\n",
       "      <td>209.0</td>\n",
       "      <td>...</td>\n",
       "      <td>248.0</td>\n",
       "      <td>247.0</td>\n",
       "      <td>248.0</td>\n",
       "      <td>253.0</td>\n",
       "      <td>236.0</td>\n",
       "      <td>230.0</td>\n",
       "      <td>240.0</td>\n",
       "      <td>253.0</td>\n",
       "      <td>255.0</td>\n",
       "      <td>0.0</td>\n",
       "    </tr>\n",
       "    <tr>\n",
       "      <th>4</th>\n",
       "      <td>188.0</td>\n",
       "      <td>191.0</td>\n",
       "      <td>193.0</td>\n",
       "      <td>195.0</td>\n",
       "      <td>199.0</td>\n",
       "      <td>201.0</td>\n",
       "      <td>202.0</td>\n",
       "      <td>203.0</td>\n",
       "      <td>203.0</td>\n",
       "      <td>203.0</td>\n",
       "      <td>...</td>\n",
       "      <td>40.0</td>\n",
       "      <td>64.0</td>\n",
       "      <td>48.0</td>\n",
       "      <td>29.0</td>\n",
       "      <td>46.0</td>\n",
       "      <td>49.0</td>\n",
       "      <td>46.0</td>\n",
       "      <td>46.0</td>\n",
       "      <td>53.0</td>\n",
       "      <td>3.0</td>\n",
       "    </tr>\n",
       "  </tbody>\n",
       "</table>\n",
       "<p>5 rows × 785 columns</p>\n",
       "</div>"
      ],
      "text/plain": [
       "   pixel1  pixel2  pixel3  pixel4  pixel5  pixel6  pixel7  pixel8  pixel9  \\\n",
       "0   149.0   149.0   150.0   150.0   150.0   151.0   151.0   150.0   151.0   \n",
       "1   126.0   128.0   131.0   132.0   133.0   134.0   135.0   135.0   136.0   \n",
       "2    85.0    88.0    92.0    96.0   105.0   123.0   135.0   143.0   147.0   \n",
       "3   203.0   205.0   207.0   206.0   207.0   209.0   210.0   209.0   210.0   \n",
       "4   188.0   191.0   193.0   195.0   199.0   201.0   202.0   203.0   203.0   \n",
       "\n",
       "   pixel10  ...  pixel776  pixel777  pixel778  pixel779  pixel780  pixel781  \\\n",
       "0    152.0  ...     148.0     127.0      89.0      82.0      96.0     106.0   \n",
       "1    138.0  ...     104.0     194.0     183.0     186.0     184.0     184.0   \n",
       "2    152.0  ...     166.0     242.0     227.0     230.0     227.0     226.0   \n",
       "3    209.0  ...     248.0     247.0     248.0     253.0     236.0     230.0   \n",
       "4    203.0  ...      40.0      64.0      48.0      29.0      46.0      49.0   \n",
       "\n",
       "   pixel782  pixel783  pixel784  label  \n",
       "0     112.0     120.0     107.0    6.0  \n",
       "1     184.0     182.0     180.0    5.0  \n",
       "2     225.0     224.0     222.0   10.0  \n",
       "3     240.0     253.0     255.0    0.0  \n",
       "4      46.0      46.0      53.0    3.0  \n",
       "\n",
       "[5 rows x 785 columns]"
      ]
     },
     "execution_count": 53,
     "metadata": {},
     "output_type": "execute_result"
    }
   ],
   "source": [
    "#Concatenate the test_MNIST set and the split of 30,000 images from the train set\n",
    "test = pd.concat([test_MNIST, train[-30000:]])\n",
    "test.head()"
   ]
  },
  {
   "cell_type": "code",
   "execution_count": 54,
   "id": "380dd88d",
   "metadata": {},
   "outputs": [],
   "source": [
    "#Let's create the features (X_test) and the labels (y_test) variables for the test set.\n",
    "test.reset_index(drop=True, inplace=True)\n",
    "X_test = test.drop(columns='label')\n",
    "y_test = test['label']"
   ]
  },
  {
   "cell_type": "code",
   "execution_count": 55,
   "id": "4f95775c",
   "metadata": {},
   "outputs": [],
   "source": [
    "#Drop 30,000 images from the train set, and create the X and y\n",
    "X = train[:-30000].drop(columns='label')\n",
    "y = train['label'][:-30000]"
   ]
  },
  {
   "cell_type": "code",
   "execution_count": 56,
   "id": "b467ede1",
   "metadata": {},
   "outputs": [
    {
     "data": {
      "text/plain": [
       "((109455, 784), (109455,), (37172, 784), (37172,))"
      ]
     },
     "execution_count": 56,
     "metadata": {},
     "output_type": "execute_result"
    }
   ],
   "source": [
    "#Let's take a look at the shapes of the train and test sets\n",
    "X.shape, y.shape, X_test.shape, y_test.shape"
   ]
  },
  {
   "cell_type": "code",
   "execution_count": 57,
   "id": "7995aedc",
   "metadata": {},
   "outputs": [
    {
     "data": {
      "image/png": "[encoded data removed]",
      "text/plain": [
       "<Figure size 720x432 with 1 Axes>"
      ]
     },
     "metadata": {
      "needs_background": "light"
     },
     "output_type": "display_data"
    }
   ],
   "source": [
    "#Plot the balance of classes in the train set\n",
    "plt.figure(figsize = (10,6))\n",
    "sns.countplot(y, color='g')\n",
    "plt.title('Count of each class in the train set (y)')\n",
    "plt.xlabel('Classes')\n",
    "plt.show()"
   ]
  },
  {
   "cell_type": "markdown",
   "id": "65bde590",
   "metadata": {},
   "source": [
    "I have now a train set of 109,455 images and a test set of 37,172 images. The balance of the classes on the train set is similar to what it was expected. Classes 9, 25, 26 and 27 have less samples than the other classes because the MNIST set didn't have these 4 classes. Now, let's proceed with the train-test split and create the train and validation sets."
   ]
  },
  {
   "cell_type": "code",
   "execution_count": 58,
   "id": "36de8aae",
   "metadata": {},
   "outputs": [],
   "source": [
    "#Use a 10% test_size split for the validation set and stratify on 'y' so the classes are well balanced in both sets\n",
    "X_train, X_val, y_train, y_val = train_test_split(X, y, test_size=0.1, random_state=0, stratify=y)"
   ]
  },
  {
   "cell_type": "code",
   "execution_count": 59,
   "id": "50436186",
   "metadata": {},
   "outputs": [
    {
     "data": {
      "text/plain": [
       "((98509, 784), (98509,))"
      ]
     },
     "execution_count": 59,
     "metadata": {},
     "output_type": "execute_result"
    }
   ],
   "source": [
    "X_train.shape, y_train.shape"
   ]
  },
  {
   "cell_type": "code",
   "execution_count": 60,
   "id": "4a6d80fb",
   "metadata": {},
   "outputs": [
    {
     "data": {
      "text/plain": [
       "((10946, 784), (10946,))"
      ]
     },
     "execution_count": 60,
     "metadata": {},
     "output_type": "execute_result"
    }
   ],
   "source": [
    "X_val.shape, y_val.shape"
   ]
  },
  {
   "cell_type": "code",
   "execution_count": 61,
   "id": "4dd432cf",
   "metadata": {},
   "outputs": [
    {
     "data": {
      "image/png": "[encoded data removed]",
      "text/plain": [
       "<Figure size 720x432 with 1 Axes>"
      ]
     },
     "metadata": {
      "needs_background": "light"
     },
     "output_type": "display_data"
    }
   ],
   "source": [
    "plt.figure(figsize = (10,6))\n",
    "sns.countplot(y_train, color='g')\n",
    "plt.title('Count of each class in the train set')\n",
    "plt.xlabel('Classes')\n",
    "plt.show()"
   ]
  },
  {
   "cell_type": "code",
   "execution_count": 62,
   "id": "add65df0",
   "metadata": {},
   "outputs": [
    {
     "data": {
      "image/png": "[encoded data removed]",
      "text/plain": [
       "<Figure size 720x432 with 1 Axes>"
      ]
     },
     "metadata": {
      "needs_background": "light"
     },
     "output_type": "display_data"
    }
   ],
   "source": [
    "plt.figure(figsize = (10,6))\n",
    "sns.countplot(y_val, color='g')\n",
    "plt.title('Count of each class in the validation set')\n",
    "plt.xlabel('Classes')\n",
    "plt.show()"
   ]
  },
  {
   "cell_type": "markdown",
   "id": "e2e4c6e5",
   "metadata": {},
   "source": [
    "There are 98,509 images for the train set and 10,946 images for the validation set. The classes in both sets seem to be correctly distributed. The next step is the preparation of the information to train the model.<br><br>\n",
    "# Preprocessing\n",
    "First, the labels need to be one hot encoded. Additionally, I will normalize to [0,1] the values for the pixels, so that the model can train easier. Finally, I will reshape the features in the shape needed for the model."
   ]
  },
  {
   "cell_type": "code",
   "execution_count": 63,
   "id": "12e0e872",
   "metadata": {},
   "outputs": [],
   "source": [
    "#Use LabelBinarizer to encode the labels\n",
    "encoder = LabelBinarizer()\n",
    "y_train = encoder.fit_transform(y_train)\n",
    "y_val = encoder.transform(y_val)\n",
    "y_test_enc = encoder.transform(y_test)"
   ]
  },
  {
   "cell_type": "code",
   "execution_count": 64,
   "id": "09acab29",
   "metadata": {},
   "outputs": [],
   "source": [
    "X_train = X_train.astype('float32')\n",
    "X_val = X_val.astype('float32')\n",
    "X_test = X_test.astype('float32')"
   ]
  },
  {
   "cell_type": "code",
   "execution_count": 65,
   "id": "a568d364",
   "metadata": {},
   "outputs": [],
   "source": [
    "#Normalize to [0,1] the values for the pixels in the images\n",
    "X_train /= 255.0\n",
    "X_val /= 255.0\n",
    "X_test /= 255.0"
   ]
  },
  {
   "cell_type": "code",
   "execution_count": 66,
   "id": "2720eff1",
   "metadata": {},
   "outputs": [],
   "source": [
    "#Reshape the sets in the correct shape to pass on to the model\n",
    "X_train = X_train.to_numpy().reshape(-1,28,28,1)\n",
    "X_val = X_val.to_numpy().reshape(-1,28,28,1)\n",
    "X_test = X_test.to_numpy().reshape(-1,28,28,1)"
   ]
  },
  {
   "cell_type": "markdown",
   "id": "88c576ed",
   "metadata": {},
   "source": [
    "# A quick reference on Convolutional Neural Networks (CNN)\n",
    "\n",
    "Now, before going in to the modeling, let's take a quick overview of a Convolutional Neural Network (CNN).<br><br>\n",
    "A CNN is basically made of an input layer, a defined amount of hidden layers, and an output layer (see Fig. 2). In this case, the input layer is every image fed into the network. These images are passed into the hidden layers for filtering, reshaping and, basically, for creating a feature map. This map will eventually be passed to the output layer which contains the labels or classes for our classification problem."
   ]
  },
  {
   "cell_type": "markdown",
   "id": "acf59585",
   "metadata": {},
   "source": [
    "<img src=\"../Images/CNN_hidden_layers.jpeg\" width=\"720\" height=\"60\" align=\"center\"/>\n",
    "<center><b>Fig. 2</b><br></center><center>Reference: i2 Tutorials<br><i>https://www.i2tutorials.com/what-are-different-layers-in-neural-networks/<i></center>"
   ]
  },
  {
   "cell_type": "markdown",
   "id": "b0a2587b",
   "metadata": {},
   "source": [
    "The following image (Fig. 3) gives a wonderful and clear overview of a simple CNN.<br><br>\n",
    "As mentioned previously, a CNN has an input layer which contains the data that will be fed into the network. These images will be fed into a hidden layer, which could be a convolutional layer, a pooling layer, among others. The purpose of a convolutional layer is to pass filters (kernels) over the images and try to learn features from them. Normally, intial convolutional layers will learn simple shapes, like lines and edges. As the network gets deeper, other convolutional layers will learn more complex shapes to make the network more robust and able to classify the images better.<br><br>\n",
    "On the other hand, a pooling layer, will pass a kernel of size m x m on every region of the image, which will get the maximum or the average value of the pixels on this part of the image. The decision on whether to take the maximum or the average value of this part of the image depends on the type of pooling layer that is selected during the configuration of the network. A good example of a max pooling layer is shown on Fig. 4.<br><br>\n",
    "After defining all the hidden layers in the convolutional section, which will determine the feature map for the network, it is necessary to flatten the values into an array which then will be the input of a Dense layer. The main property of a Dense layer is that it has all its nodes connected. Because of this, it is better to avoid using them on early stages of the network to prevent overfitting.<br><br>\n",
    "Finally, the last Dense layer in the network is connected to the output layer, which contains the classes (in this case 28) that we have for classification."
   ]
  },
  {
   "cell_type": "markdown",
   "id": "962d8510",
   "metadata": {},
   "source": [
    "<img src=\"../Images/CNN.png\" width=\"960\" height=\"120\" align=\"center\"/>\n",
    "<center><b>Fig. 3</b><br></center><center>Reference TDS: By Saul Dobilas<br><i>https://towardsdatascience.com/convolutional-neural-networks-explained-how-to-successfully-classify-images-in-python-df829d4ba761<i></center>"
   ]
  },
  {
   "cell_type": "markdown",
   "id": "a3b0ff0a",
   "metadata": {},
   "source": [
    "The following image shows an example of a Max pooling layer. In this case, the size of the kernel (the small purple window passed to every region of the image) is 2 x 2. Additionally, the stride = 2, which indicates that the kernel will slide 2 pixels every time it moves to take the next maximum value in that region. In this example, the maxpool layer will reduce the size of the image from 4 x 4 to 2 x 2. "
   ]
  },
  {
   "cell_type": "markdown",
   "id": "cbf77af2",
   "metadata": {},
   "source": [
    "<img src=\"../Images/maxpool.gif\" width=\"640\" height=\"60\" align=\"center\"/>\n",
    "    <center><b>Fig. 4</b><br></center><center>Reference: NumPyNet<br><i>https://nico-curti.github.io/NumPyNet/NumPyNet/layers/maxpool_layer.html<i></center>"
   ]
  },
  {
   "cell_type": "markdown",
   "id": "c4c3663f",
   "metadata": {},
   "source": [
    "# Modeling"
   ]
  },
  {
   "cell_type": "markdown",
   "id": "98ffdaf0",
   "metadata": {},
   "source": [
    "After a brief explanation on CNNs, let's continue on to training a first model. I will use the sequential model from Keras."
   ]
  },
  {
   "cell_type": "code",
   "execution_count": 67,
   "id": "e7c53fed",
   "metadata": {},
   "outputs": [
    {
     "name": "stdout",
     "output_type": "stream",
     "text": [
      "Model: \"sequential\"\n",
      "_________________________________________________________________\n",
      " Layer (type)                Output Shape              Param #   \n",
      "=================================================================\n",
      " conv2d (Conv2D)             (None, 28, 28, 64)        320       \n",
      "                                                                 \n",
      " max_pooling2d (MaxPooling2D  (None, 14, 14, 64)       0         \n",
      " )                                                               \n",
      "                                                                 \n",
      " conv2d_1 (Conv2D)           (None, 14, 14, 32)        8224      \n",
      "                                                                 \n",
      " flatten (Flatten)           (None, 6272)              0         \n",
      "                                                                 \n",
      " dense (Dense)               (None, 32)                200736    \n",
      "                                                                 \n",
      " dense_1 (Dense)             (None, 28)                924       \n",
      "                                                                 \n",
      "=================================================================\n",
      "Total params: 210,204\n",
      "Trainable params: 210,204\n",
      "Non-trainable params: 0\n",
      "_________________________________________________________________\n"
     ]
    }
   ],
   "source": [
    "#Use filters of size 3 x 3 on convolutional layers, activation = rectified linear unit (relu)\n",
    "#and padding = 'same' which means zero padding that keeps images in their same size\n",
    "model = Sequential()\n",
    "model.add(Conv2D(64, kernel_size=2, activation='relu', padding='same', input_shape=(28, 28, 1)))\n",
    "model.add(MaxPool2D())\n",
    "model.add(Conv2D(32, kernel_size=2, activation='relu', padding='same'))\n",
    "model.add(Flatten())\n",
    "model.add(Dense(32, activation='relu'))\n",
    "model.add(Dense(28, activation='softmax')) #Use activation = 'softmax' due to multiple category classification\n",
    "model.summary() #To show the summary of the network"
   ]
  },
  {
   "cell_type": "markdown",
   "id": "2d9085f6",
   "metadata": {},
   "source": [
    "The summary() method shows the layers of the model, the shape of the output of every layer and the parameters on every layer. This graph of the model is very convenient to check how the information is passed to every layer, as well as the total number of parameters included in the model."
   ]
  },
  {
   "cell_type": "code",
   "execution_count": 68,
   "id": "2fbe7263",
   "metadata": {},
   "outputs": [],
   "source": [
    "#Compile the model with accuracy as metric and categorical_entropy loss for multiple classes\n",
    "model.compile(optimizer='adam', loss='categorical_crossentropy', metrics=['accuracy'])"
   ]
  },
  {
   "cell_type": "code",
   "execution_count": 69,
   "id": "b2f54d36",
   "metadata": {},
   "outputs": [
    {
     "name": "stdout",
     "output_type": "stream",
     "text": [
      "Epoch 1/5\n",
      "3079/3079 [==============================] - 117s 38ms/step - loss: 1.5995 - accuracy: 0.5141 - val_loss: 0.8935 - val_accuracy: 0.7183\n",
      "Epoch 2/5\n",
      "3079/3079 [==============================] - 116s 38ms/step - loss: 0.6862 - accuracy: 0.7796 - val_loss: 0.5459 - val_accuracy: 0.8249\n",
      "Epoch 3/5\n",
      "3079/3079 [==============================] - 115s 37ms/step - loss: 0.4696 - accuracy: 0.8497 - val_loss: 0.4010 - val_accuracy: 0.8729\n",
      "Epoch 4/5\n",
      "3079/3079 [==============================] - 116s 38ms/step - loss: 0.3613 - accuracy: 0.8838 - val_loss: 0.3356 - val_accuracy: 0.8940\n",
      "Epoch 5/5\n",
      "3079/3079 [==============================] - 115s 37ms/step - loss: 0.2932 - accuracy: 0.9054 - val_loss: 0.2780 - val_accuracy: 0.9107\n"
     ]
    }
   ],
   "source": [
    "#Let's train the model on 5 epochs\n",
    "history = model.fit(X_train, y_train, validation_data=(X_val, y_val), epochs=5)"
   ]
  },
  {
   "cell_type": "markdown",
   "id": "788c486c",
   "metadata": {},
   "source": [
    "Let's plot the training and validation loss values through every epoch to see if during training there is some overfitting"
   ]
  },
  {
   "cell_type": "code",
   "execution_count": 70,
   "id": "29dc7d88",
   "metadata": {},
   "outputs": [
    {
     "data": {
      "image/png": "[encoded data removed]",
      "text/plain": [
       "<Figure size 432x288 with 1 Axes>"
      ]
     },
     "metadata": {
      "needs_background": "light"
     },
     "output_type": "display_data"
    }
   ],
   "source": [
    "#Plot train and validation losses of the model\n",
    "plt.subplots()\n",
    "plt.plot(history.history['loss'], label='Train Loss')\n",
    "plt.plot(history.history['val_loss'], label='Validation Loss')\n",
    "plt.legend()\n",
    "plt.show()"
   ]
  },
  {
   "cell_type": "markdown",
   "id": "7342e899",
   "metadata": {},
   "source": [
    "There doesn't seem to be any overfitting present. Also, it looks like if the number of epochs is increased, maybe we could get a little higher accuracy.<br><br>\n",
    "I will check now the performance of the model. Let's see if it can generalize well."
   ]
  },
  {
   "cell_type": "code",
   "execution_count": 71,
   "id": "122b78f4",
   "metadata": {},
   "outputs": [
    {
     "name": "stdout",
     "output_type": "stream",
     "text": [
      "1162/1162 [==============================] - 11s 10ms/step - loss: 0.6843 - accuracy: 0.8030\n",
      "The accuracy of the model is: 80.30237555503845 %\n"
     ]
    }
   ],
   "source": [
    "print('The accuracy of the model is:', model.evaluate(X_test, y_test_enc)[1]*100, '%')"
   ]
  },
  {
   "cell_type": "markdown",
   "id": "7815645d",
   "metadata": {},
   "source": [
    "The accuracy of this first model is ~80% on the test set. Comparing this result to the 91% accuracy on the validation set, it looks like there is some overfitting present in the model.<br><br>\n",
    "Perhaps some data augmentation with images rotated, shifted, flipped, etc. could help. Additionally, let's include some dropout layers to cut some node connections and reduce the overfitting problem."
   ]
  },
  {
   "cell_type": "code",
   "execution_count": 72,
   "id": "5776af0c",
   "metadata": {},
   "outputs": [],
   "source": [
    "#Data augmentation to prevent overfitting\n",
    "datagen = ImageDataGenerator(\n",
    "        rotation_range=20,\n",
    "        width_shift_range=0.2,\n",
    "        height_shift_range=0.2,\n",
    "        zoom_range=0.2,\n",
    "        horizontal_flip=True,\n",
    ")"
   ]
  },
  {
   "cell_type": "code",
   "execution_count": 73,
   "id": "d98fdfad",
   "metadata": {},
   "outputs": [
    {
     "name": "stdout",
     "output_type": "stream",
     "text": [
      "Model: \"sequential_1\"\n",
      "_________________________________________________________________\n",
      " Layer (type)                Output Shape              Param #   \n",
      "=================================================================\n",
      " conv2d_2 (Conv2D)           (None, 28, 28, 64)        320       \n",
      "                                                                 \n",
      " max_pooling2d_1 (MaxPooling  (None, 14, 14, 64)       0         \n",
      " 2D)                                                             \n",
      "                                                                 \n",
      " conv2d_3 (Conv2D)           (None, 14, 14, 32)        8224      \n",
      "                                                                 \n",
      " dropout (Dropout)           (None, 14, 14, 32)        0         \n",
      "                                                                 \n",
      " flatten_1 (Flatten)         (None, 6272)              0         \n",
      "                                                                 \n",
      " dense_2 (Dense)             (None, 32)                200736    \n",
      "                                                                 \n",
      " dense_3 (Dense)             (None, 28)                924       \n",
      "                                                                 \n",
      "=================================================================\n",
      "Total params: 210,204\n",
      "Trainable params: 210,204\n",
      "Non-trainable params: 0\n",
      "_________________________________________________________________\n"
     ]
    }
   ],
   "source": [
    "#Add dropout layers to the model_2\n",
    "model_2 = Sequential()\n",
    "model_2.add(Conv2D(64, kernel_size=2, activation='relu', padding='same', input_shape=(28, 28, 1)))\n",
    "model_2.add(MaxPool2D())\n",
    "model_2.add(Conv2D(32, kernel_size=2, activation='relu', padding='same'))\n",
    "model_2.add(Dropout(0.3)) #drop 30% node connections in this layer\n",
    "model_2.add(Flatten())\n",
    "model_2.add(Dense(32, activation='relu'))\n",
    "model_2.add(Dense(28, activation='softmax'))\n",
    "model_2.summary()"
   ]
  },
  {
   "cell_type": "code",
   "execution_count": 74,
   "id": "65188704",
   "metadata": {},
   "outputs": [],
   "source": [
    "#Compile the model\n",
    "model_2.compile(optimizer='adam', loss='categorical_crossentropy', metrics=['accuracy'])"
   ]
  },
  {
   "cell_type": "code",
   "execution_count": 75,
   "id": "c6e7e9e7",
   "metadata": {},
   "outputs": [
    {
     "name": "stdout",
     "output_type": "stream",
     "text": [
      "Epoch 1/5\n",
      "3079/3079 [==============================] - 138s 45ms/step - loss: 2.8731 - accuracy: 0.1467 - val_loss: 2.3803 - val_accuracy: 0.2676\n",
      "Epoch 2/5\n",
      "3079/3079 [==============================] - 145s 47ms/step - loss: 2.4527 - accuracy: 0.2431 - val_loss: 2.0700 - val_accuracy: 0.3361\n",
      "Epoch 3/5\n",
      "3079/3079 [==============================] - 155s 50ms/step - loss: 2.2758 - accuracy: 0.2868 - val_loss: 1.9441 - val_accuracy: 0.3734\n",
      "Epoch 4/5\n",
      "3079/3079 [==============================] - 147s 48ms/step - loss: 2.1570 - accuracy: 0.3179 - val_loss: 1.7864 - val_accuracy: 0.4209\n",
      "Epoch 5/5\n",
      "3079/3079 [==============================] - 153s 50ms/step - loss: 2.0776 - accuracy: 0.3391 - val_loss: 1.7785 - val_accuracy: 0.4216\n"
     ]
    }
   ],
   "source": [
    "#Include data augmented during model fitting\n",
    "history = model_2.fit(datagen.flow(X_train, y_train, batch_size=32), validation_data=(X_val, y_val), epochs=5)"
   ]
  },
  {
   "cell_type": "code",
   "execution_count": 76,
   "id": "c4901612",
   "metadata": {},
   "outputs": [
    {
     "data": {
      "image/png": "[encoded data removed]",
      "text/plain": [
       "<Figure size 432x288 with 1 Axes>"
      ]
     },
     "metadata": {
      "needs_background": "light"
     },
     "output_type": "display_data"
    }
   ],
   "source": [
    "#Plot train and validation losses of the model\n",
    "plt.subplots()\n",
    "plt.plot(history.history['loss'], label='Train Loss')\n",
    "plt.plot(history.history['val_loss'], label='Validation Loss')\n",
    "plt.title('Train loss vs Validation loss for model 2')\n",
    "plt.legend()\n",
    "plt.show()"
   ]
  },
  {
   "cell_type": "code",
   "execution_count": 77,
   "id": "0ea8160a",
   "metadata": {},
   "outputs": [
    {
     "name": "stdout",
     "output_type": "stream",
     "text": [
      "1162/1162 [==============================] - 11s 9ms/step - loss: 1.9943 - accuracy: 0.3561\n",
      "The accuracy of the model is: 35.61013638973236 %\n"
     ]
    }
   ],
   "source": [
    "print('The accuracy of the model is:', model_2.evaluate(X_test, y_test_enc)[1]*100, '%')"
   ]
  },
  {
   "cell_type": "markdown",
   "id": "c9f45616",
   "metadata": {},
   "source": [
    "The second model is worse than the first one. The accuracy of this model decreased considerably and it did not improve constantly with every epoch.<br><br>\n",
    "On the other hand, the difference between the accuracy on the test set vs the validation accuracy improved by a small amount. It seems that, the data augmentation helped the model to decrease the overfitting and generalize better, although the accuracy is very poor.<br><br>\n",
    "Now, let's try to improve the model by adding some more layers to it."
   ]
  },
  {
   "cell_type": "code",
   "execution_count": 78,
   "id": "cac33edd",
   "metadata": {},
   "outputs": [
    {
     "name": "stdout",
     "output_type": "stream",
     "text": [
      "Model: \"sequential_2\"\n",
      "_________________________________________________________________\n",
      " Layer (type)                Output Shape              Param #   \n",
      "=================================================================\n",
      " conv2d_4 (Conv2D)           (None, 28, 28, 32)        320       \n",
      "                                                                 \n",
      " batch_normalization (BatchN  (None, 28, 28, 32)       128       \n",
      " ormalization)                                                   \n",
      "                                                                 \n",
      " max_pooling2d_2 (MaxPooling  (None, 14, 14, 32)       0         \n",
      " 2D)                                                             \n",
      "                                                                 \n",
      " conv2d_5 (Conv2D)           (None, 14, 14, 64)        18496     \n",
      "                                                                 \n",
      " dropout_1 (Dropout)         (None, 14, 14, 64)        0         \n",
      "                                                                 \n",
      " batch_normalization_1 (Batc  (None, 14, 14, 64)       256       \n",
      " hNormalization)                                                 \n",
      "                                                                 \n",
      " flatten_2 (Flatten)         (None, 12544)             0         \n",
      "                                                                 \n",
      " dense_4 (Dense)             (None, 512)               6423040   \n",
      "                                                                 \n",
      " dropout_2 (Dropout)         (None, 512)               0         \n",
      "                                                                 \n",
      " dense_5 (Dense)             (None, 512)               262656    \n",
      "                                                                 \n",
      " dropout_3 (Dropout)         (None, 512)               0         \n",
      "                                                                 \n",
      " dense_6 (Dense)             (None, 28)                14364     \n",
      "                                                                 \n",
      "=================================================================\n",
      "Total params: 6,719,260\n",
      "Trainable params: 6,719,068\n",
      "Non-trainable params: 192\n",
      "_________________________________________________________________\n"
     ]
    }
   ],
   "source": [
    "#Reduce the filters for the first Conv2d layer and increase them for the subsequent layers\n",
    "#Additionally, include BatchNormalization for regularization of the inputs\n",
    "#Increase the dropout layers\n",
    "#Increase the dense layers and the units in each of them\n",
    "model_3 = Sequential()\n",
    "model_3.add(Conv2D(32, kernel_size=3, activation='relu', padding='same', input_shape=(28, 28, 1)))\n",
    "model_3.add(BatchNormalization())\n",
    "model_3.add(MaxPool2D((2,2) , strides = 2 , padding = 'same'))\n",
    "model_3.add(Conv2D(64, kernel_size=3, activation='relu', padding='same'))\n",
    "model_3.add(Dropout(0.3))\n",
    "model_3.add(BatchNormalization())\n",
    "model_3.add(Flatten())\n",
    "model_3.add(Dense(units = 512 , activation = 'relu'))\n",
    "model_3.add(Dropout(0.3))\n",
    "model_3.add(Dense(units = 512 , activation = 'relu'))\n",
    "model_3.add(Dropout(0.3))\n",
    "model_3.add(Dense(28, activation='softmax'))\n",
    "model_3.summary()"
   ]
  },
  {
   "cell_type": "code",
   "execution_count": 79,
   "id": "699dbb91",
   "metadata": {},
   "outputs": [],
   "source": [
    "#Compile the model\n",
    "model_3.compile(optimizer='adam', loss='categorical_crossentropy', metrics=['accuracy'])"
   ]
  },
  {
   "cell_type": "code",
   "execution_count": 80,
   "id": "1654d30d",
   "metadata": {},
   "outputs": [
    {
     "name": "stdout",
     "output_type": "stream",
     "text": [
      "Epoch 1/5\n",
      "1540/1540 [==============================] - 336s 217ms/step - loss: 2.9823 - accuracy: 0.1197 - val_loss: 2.6185 - val_accuracy: 0.1908\n",
      "Epoch 2/5\n",
      "1540/1540 [==============================] - 340s 220ms/step - loss: 2.5882 - accuracy: 0.1991 - val_loss: 2.2692 - val_accuracy: 0.2801\n",
      "Epoch 3/5\n",
      "1540/1540 [==============================] - 346s 225ms/step - loss: 2.2807 - accuracy: 0.2778 - val_loss: 2.1593 - val_accuracy: 0.3131\n",
      "Epoch 4/5\n",
      "1540/1540 [==============================] - 343s 223ms/step - loss: 1.9992 - accuracy: 0.3568 - val_loss: 1.7543 - val_accuracy: 0.4254\n",
      "Epoch 5/5\n",
      "1540/1540 [==============================] - 350s 227ms/step - loss: 1.7722 - accuracy: 0.4246 - val_loss: 1.3172 - val_accuracy: 0.5495\n"
     ]
    }
   ],
   "source": [
    "history = model_3.fit(datagen.flow(X_train, y_train, batch_size=64), validation_data=(X_val, y_val), epochs=5)"
   ]
  },
  {
   "cell_type": "code",
   "execution_count": 81,
   "id": "e8fa3000",
   "metadata": {},
   "outputs": [
    {
     "data": {
      "image/png": "[encoded data removed]",
      "text/plain": [
       "<Figure size 432x288 with 1 Axes>"
      ]
     },
     "metadata": {
      "needs_background": "light"
     },
     "output_type": "display_data"
    }
   ],
   "source": [
    "#Plot train and validation losses of the model\n",
    "plt.subplots()\n",
    "plt.plot(history.history['loss'], label='Train Loss')\n",
    "plt.plot(history.history['val_loss'], label='Validation Loss')\n",
    "plt.title('Train loss vs Validation loss for model 3')\n",
    "plt.legend()\n",
    "plt.show()"
   ]
  },
  {
   "cell_type": "code",
   "execution_count": 82,
   "id": "50a13171",
   "metadata": {},
   "outputs": [
    {
     "name": "stdout",
     "output_type": "stream",
     "text": [
      "1162/1162 [==============================] - 33s 29ms/step - loss: 1.5771 - accuracy: 0.4625\n",
      "The accuracy of the model is: 46.247175335884094 %\n"
     ]
    }
   ],
   "source": [
    "print('The accuracy of the model is:', model_3.evaluate(X_test, y_test_enc)[1]*100, '%')"
   ]
  },
  {
   "cell_type": "markdown",
   "id": "42c3588e",
   "metadata": {},
   "source": [
    "This new model increased a little the accuracy in validation, as well as in test. Let's try to tune a few more parameters to see if it's possible to improve more the performance of the model.\n",
    "\n",
    "I will add a callback for reducing the learning rate in case that the improvement has stopped. Additionally, I will add more hidden layers to the model."
   ]
  },
  {
   "cell_type": "code",
   "execution_count": 83,
   "id": "f07b8eca",
   "metadata": {},
   "outputs": [],
   "source": [
    "#This learning rate reduce callback will monitor the validation loss\n",
    "reduce_lr = ReduceLROnPlateau(\n",
    "    monitor='val_loss', \n",
    "    patience = 1, \n",
    "    verbose=1,\n",
    "    factor=0.5, \n",
    "    min_lr=0.000001\n",
    ")"
   ]
  },
  {
   "cell_type": "code",
   "execution_count": 84,
   "id": "400e5ca8",
   "metadata": {},
   "outputs": [
    {
     "name": "stdout",
     "output_type": "stream",
     "text": [
      "Model: \"sequential_3\"\n",
      "_________________________________________________________________\n",
      " Layer (type)                Output Shape              Param #   \n",
      "=================================================================\n",
      " conv2d_6 (Conv2D)           (None, 28, 28, 32)        320       \n",
      "                                                                 \n",
      " batch_normalization_2 (Batc  (None, 28, 28, 32)       128       \n",
      " hNormalization)                                                 \n",
      "                                                                 \n",
      " max_pooling2d_3 (MaxPooling  (None, 14, 14, 32)       0         \n",
      " 2D)                                                             \n",
      "                                                                 \n",
      " conv2d_7 (Conv2D)           (None, 14, 14, 64)        18496     \n",
      "                                                                 \n",
      " dropout_4 (Dropout)         (None, 14, 14, 64)        0         \n",
      "                                                                 \n",
      " batch_normalization_3 (Batc  (None, 14, 14, 64)       256       \n",
      " hNormalization)                                                 \n",
      "                                                                 \n",
      " conv2d_8 (Conv2D)           (None, 14, 14, 128)       73856     \n",
      "                                                                 \n",
      " dropout_5 (Dropout)         (None, 14, 14, 128)       0         \n",
      "                                                                 \n",
      " batch_normalization_4 (Batc  (None, 14, 14, 128)      512       \n",
      " hNormalization)                                                 \n",
      "                                                                 \n",
      " max_pooling2d_4 (MaxPooling  (None, 7, 7, 128)        0         \n",
      " 2D)                                                             \n",
      "                                                                 \n",
      " conv2d_9 (Conv2D)           (None, 7, 7, 128)         147584    \n",
      "                                                                 \n",
      " dropout_6 (Dropout)         (None, 7, 7, 128)         0         \n",
      "                                                                 \n",
      " batch_normalization_5 (Batc  (None, 7, 7, 128)        512       \n",
      " hNormalization)                                                 \n",
      "                                                                 \n",
      " max_pooling2d_5 (MaxPooling  (None, 4, 4, 128)        0         \n",
      " 2D)                                                             \n",
      "                                                                 \n",
      " flatten_3 (Flatten)         (None, 2048)              0         \n",
      "                                                                 \n",
      " dense_7 (Dense)             (None, 512)               1049088   \n",
      "                                                                 \n",
      " dropout_7 (Dropout)         (None, 512)               0         \n",
      "                                                                 \n",
      " dense_8 (Dense)             (None, 512)               262656    \n",
      "                                                                 \n",
      " dropout_8 (Dropout)         (None, 512)               0         \n",
      "                                                                 \n",
      " dense_9 (Dense)             (None, 512)               262656    \n",
      "                                                                 \n",
      " dropout_9 (Dropout)         (None, 512)               0         \n",
      "                                                                 \n",
      " dense_10 (Dense)            (None, 28)                14364     \n",
      "                                                                 \n",
      "=================================================================\n",
      "Total params: 1,830,428\n",
      "Trainable params: 1,829,724\n",
      "Non-trainable params: 704\n",
      "_________________________________________________________________\n"
     ]
    }
   ],
   "source": [
    "#Added more convolutional and dropout layers to this model\n",
    "model_4 = Sequential()\n",
    "model_4.add(Conv2D(32 , (3,3) , strides = 1 , padding = 'same' , activation = 'relu' , input_shape = (28,28,1)))\n",
    "model_4.add(BatchNormalization())\n",
    "model_4.add(MaxPool2D((2,2) , strides = 2 , padding = 'same'))\n",
    "model_4.add(Conv2D(64 , (3,3) , strides = 1 , padding = 'same' , activation = 'relu'))\n",
    "model_4.add(Dropout(0.3))\n",
    "model_4.add(BatchNormalization())\n",
    "model_4.add(Conv2D(128 , (3,3) , strides = 1 , padding = 'same' , activation = 'relu'))\n",
    "model_4.add(Dropout(0.3))\n",
    "model_4.add(BatchNormalization())\n",
    "model_4.add(MaxPool2D((2,2) , strides = 2 , padding = 'same'))\n",
    "model_4.add(Conv2D(128 , (3,3) , strides = 1 , padding = 'same' , activation = 'relu'))\n",
    "model_4.add(Dropout(0.3))\n",
    "model_4.add(BatchNormalization())\n",
    "model_4.add(MaxPool2D((2,2) , strides = 2 , padding = 'same'))\n",
    "model_4.add(Flatten())\n",
    "model_4.add(Dense(units = 512 , activation = 'relu'))\n",
    "model_4.add(Dropout(0.3))\n",
    "model_4.add(Dense(units = 512 , activation = 'relu'))\n",
    "model_4.add(Dropout(0.3))\n",
    "model_4.add(Dense(units = 512 , activation = 'relu'))\n",
    "model_4.add(Dropout(0.3))\n",
    "model_4.add(Dense(units = 28 , activation = 'softmax'))\n",
    "model_4.summary()"
   ]
  },
  {
   "cell_type": "code",
   "execution_count": 85,
   "id": "7eed7ba1",
   "metadata": {},
   "outputs": [],
   "source": [
    "#Compile the model\n",
    "model_4.compile(optimizer = 'adam' , loss = 'categorical_crossentropy' , metrics = ['accuracy'])"
   ]
  },
  {
   "cell_type": "code",
   "execution_count": 86,
   "id": "5dc0da46",
   "metadata": {},
   "outputs": [
    {
     "name": "stdout",
     "output_type": "stream",
     "text": [
      "Epoch 1/5\n",
      "770/770 [==============================] - 557s 721ms/step - loss: 2.6175 - accuracy: 0.1978 - val_loss: 1.8396 - val_accuracy: 0.3789 - lr: 0.0010\n",
      "Epoch 2/5\n",
      "770/770 [==============================] - 606s 786ms/step - loss: 1.7251 - accuracy: 0.4284 - val_loss: 1.1890 - val_accuracy: 0.5811 - lr: 0.0010\n",
      "Epoch 3/5\n",
      "770/770 [==============================] - 646s 839ms/step - loss: 1.3061 - accuracy: 0.5609 - val_loss: 0.8039 - val_accuracy: 0.7140 - lr: 0.0010\n",
      "Epoch 4/5\n",
      "770/770 [==============================] - ETA: 0s - loss: 1.0665 - accuracy: 0.6388\n",
      "Epoch 4: ReduceLROnPlateau reducing learning rate to 0.0005000000237487257.\n",
      "770/770 [==============================] - 575s 747ms/step - loss: 1.0665 - accuracy: 0.6388 - val_loss: 0.9843 - val_accuracy: 0.6747 - lr: 0.0010\n",
      "Epoch 5/5\n",
      "770/770 [==============================] - 578s 751ms/step - loss: 0.8340 - accuracy: 0.7151 - val_loss: 0.5734 - val_accuracy: 0.8039 - lr: 5.0000e-04\n"
     ]
    }
   ],
   "source": [
    "#Fit the model including the data augmented and the callback\n",
    "history = model_4.fit(datagen.flow(X_train, y_train, batch_size=128), validation_data=(X_val, y_val), epochs=5, callbacks = [reduce_lr])"
   ]
  },
  {
   "cell_type": "code",
   "execution_count": 87,
   "id": "90a4ec2f",
   "metadata": {},
   "outputs": [
    {
     "data": {
      "image/png": "[encoded data removed]",
      "text/plain": [
       "<Figure size 432x288 with 1 Axes>"
      ]
     },
     "metadata": {
      "needs_background": "light"
     },
     "output_type": "display_data"
    }
   ],
   "source": [
    "#Plot train and validation losses of the model\n",
    "plt.subplots()\n",
    "plt.plot(history.history['loss'], label='Train Loss')\n",
    "plt.plot(history.history['val_loss'], label='Validation Loss')\n",
    "plt.title('Train loss vs Validation loss for model 4')\n",
    "plt.legend()\n",
    "plt.show()"
   ]
  },
  {
   "cell_type": "code",
   "execution_count": 88,
   "id": "9f4e3c5e",
   "metadata": {},
   "outputs": [
    {
     "name": "stdout",
     "output_type": "stream",
     "text": [
      "1162/1162 [==============================] - 54s 46ms/step - loss: 0.7099 - accuracy: 0.7559\n",
      "The accuracy of the model is: 75.58646202087402 %\n"
     ]
    }
   ],
   "source": [
    "print('The accuracy of the model is:', model_4.evaluate(X_test, y_test_enc)[1]*100, '%')"
   ]
  },
  {
   "cell_type": "markdown",
   "id": "b2684388",
   "metadata": {},
   "source": [
    "Accuracy in the test set improved from 46% to 76%. It seems that the model needs more epochs to be able to generalize better. Let's increase the number of epochs to 25."
   ]
  },
  {
   "cell_type": "code",
   "execution_count": 95,
   "id": "442aeed3",
   "metadata": {},
   "outputs": [
    {
     "name": "stdout",
     "output_type": "stream",
     "text": [
      "Model: \"sequential_5\"\n",
      "_________________________________________________________________\n",
      " Layer (type)                Output Shape              Param #   \n",
      "=================================================================\n",
      " conv2d_14 (Conv2D)          (None, 28, 28, 32)        320       \n",
      "                                                                 \n",
      " batch_normalization_10 (Bat  (None, 28, 28, 32)       128       \n",
      " chNormalization)                                                \n",
      "                                                                 \n",
      " max_pooling2d_9 (MaxPooling  (None, 14, 14, 32)       0         \n",
      " 2D)                                                             \n",
      "                                                                 \n",
      " conv2d_15 (Conv2D)          (None, 14, 14, 64)        18496     \n",
      "                                                                 \n",
      " dropout_16 (Dropout)        (None, 14, 14, 64)        0         \n",
      "                                                                 \n",
      " batch_normalization_11 (Bat  (None, 14, 14, 64)       256       \n",
      " chNormalization)                                                \n",
      "                                                                 \n",
      " conv2d_16 (Conv2D)          (None, 14, 14, 128)       73856     \n",
      "                                                                 \n",
      " dropout_17 (Dropout)        (None, 14, 14, 128)       0         \n",
      "                                                                 \n",
      " batch_normalization_12 (Bat  (None, 14, 14, 128)      512       \n",
      " chNormalization)                                                \n",
      "                                                                 \n",
      " max_pooling2d_10 (MaxPoolin  (None, 7, 7, 128)        0         \n",
      " g2D)                                                            \n",
      "                                                                 \n",
      " conv2d_17 (Conv2D)          (None, 7, 7, 128)         147584    \n",
      "                                                                 \n",
      " dropout_18 (Dropout)        (None, 7, 7, 128)         0         \n",
      "                                                                 \n",
      " batch_normalization_13 (Bat  (None, 7, 7, 128)        512       \n",
      " chNormalization)                                                \n",
      "                                                                 \n",
      " max_pooling2d_11 (MaxPoolin  (None, 4, 4, 128)        0         \n",
      " g2D)                                                            \n",
      "                                                                 \n",
      " flatten_5 (Flatten)         (None, 2048)              0         \n",
      "                                                                 \n",
      " dense_15 (Dense)            (None, 512)               1049088   \n",
      "                                                                 \n",
      " dropout_19 (Dropout)        (None, 512)               0         \n",
      "                                                                 \n",
      " dense_16 (Dense)            (None, 512)               262656    \n",
      "                                                                 \n",
      " dropout_20 (Dropout)        (None, 512)               0         \n",
      "                                                                 \n",
      " dense_17 (Dense)            (None, 512)               262656    \n",
      "                                                                 \n",
      " dropout_21 (Dropout)        (None, 512)               0         \n",
      "                                                                 \n",
      " dense_18 (Dense)            (None, 28)                14364     \n",
      "                                                                 \n",
      "=================================================================\n",
      "Total params: 1,830,428\n",
      "Trainable params: 1,829,724\n",
      "Non-trainable params: 704\n",
      "_________________________________________________________________\n"
     ]
    }
   ],
   "source": [
    "#This is the same model structure as model 4 but with increased epochs to 25\n",
    "model_5 = Sequential()\n",
    "model_5.add(Conv2D(32 , (3,3) , strides = 1 , padding = 'same' , activation = 'relu' , input_shape = (28,28,1)))\n",
    "model_5.add(BatchNormalization())\n",
    "model_5.add(MaxPool2D((2,2) , strides = 2 , padding = 'same'))\n",
    "model_5.add(Conv2D(64 , (3,3) , strides = 1 , padding = 'same' , activation = 'relu'))\n",
    "model_5.add(Dropout(0.3))\n",
    "model_5.add(BatchNormalization())\n",
    "model_5.add(Conv2D(128 , (3,3) , strides = 1 , padding = 'same' , activation = 'relu'))\n",
    "model_5.add(Dropout(0.3))\n",
    "model_5.add(BatchNormalization())\n",
    "model_5.add(MaxPool2D((2,2) , strides = 2 , padding = 'same'))\n",
    "model_5.add(Conv2D(128 , (3,3) , strides = 1 , padding = 'same' , activation = 'relu'))\n",
    "model_5.add(Dropout(0.3))\n",
    "model_5.add(BatchNormalization())\n",
    "model_5.add(MaxPool2D((2,2) , strides = 2 , padding = 'same'))\n",
    "model_5.add(Flatten())\n",
    "model_5.add(Dense(units = 512 , activation = 'relu'))\n",
    "model_5.add(Dropout(0.3))\n",
    "model_5.add(Dense(units = 512 , activation = 'relu'))\n",
    "model_5.add(Dropout(0.3))\n",
    "model_5.add(Dense(units = 512 , activation = 'relu'))\n",
    "model_5.add(Dropout(0.3))\n",
    "model_5.add(Dense(units = 28 , activation = 'softmax'))\n",
    "model_5.summary()"
   ]
  },
  {
   "cell_type": "code",
   "execution_count": 96,
   "id": "5147b4b1",
   "metadata": {},
   "outputs": [],
   "source": [
    "#Compile the model\n",
    "model_5.compile(optimizer = 'adam' , loss = 'categorical_crossentropy' , metrics = ['accuracy'])"
   ]
  },
  {
   "cell_type": "code",
   "execution_count": 97,
   "id": "5f96b754",
   "metadata": {},
   "outputs": [
    {
     "name": "stdout",
     "output_type": "stream",
     "text": [
      "Epoch 1/25\n",
      "770/770 [==============================] - 547s 707ms/step - loss: 2.1990 - accuracy: 0.3155 - val_loss: 1.1222 - val_accuracy: 0.6096 - lr: 0.0010\n",
      "Epoch 2/25\n",
      "770/770 [==============================] - 568s 737ms/step - loss: 1.1050 - accuracy: 0.6263 - val_loss: 0.5391 - val_accuracy: 0.8134 - lr: 0.0010\n",
      "Epoch 3/25\n",
      "770/770 [==============================] - 558s 725ms/step - loss: 0.7409 - accuracy: 0.7494 - val_loss: 0.8017 - val_accuracy: 0.7787 - lr: 0.0010\n",
      "Epoch 4/25\n",
      "770/770 [==============================] - 547s 710ms/step - loss: 0.5867 - accuracy: 0.8030 - val_loss: 0.4845 - val_accuracy: 0.8381 - lr: 0.0010\n",
      "Epoch 5/25\n",
      "770/770 [==============================] - 544s 706ms/step - loss: 0.4866 - accuracy: 0.8382 - val_loss: 0.3738 - val_accuracy: 0.8816 - lr: 0.0010\n",
      "Epoch 6/25\n",
      "770/770 [==============================] - 543s 705ms/step - loss: 0.4270 - accuracy: 0.8594 - val_loss: 0.3396 - val_accuracy: 0.8932 - lr: 0.0010\n",
      "Epoch 7/25\n",
      "770/770 [==============================] - 544s 706ms/step - loss: 0.3834 - accuracy: 0.8752 - val_loss: 0.2053 - val_accuracy: 0.9326 - lr: 0.0010\n",
      "Epoch 8/25\n",
      "770/770 [==============================] - 539s 700ms/step - loss: 0.3508 - accuracy: 0.8868 - val_loss: 0.5675 - val_accuracy: 0.8604 - lr: 0.0010\n",
      "Epoch 9/25\n",
      "770/770 [==============================] - ETA: 0s - loss: 0.3207 - accuracy: 0.8959\n",
      "Epoch 9: ReduceLROnPlateau reducing learning rate to 0.0005000000237487257.\n",
      "770/770 [==============================] - 548s 711ms/step - loss: 0.3207 - accuracy: 0.8959 - val_loss: 0.4189 - val_accuracy: 0.8932 - lr: 0.0010\n",
      "Epoch 10/25\n",
      "770/770 [==============================] - 540s 702ms/step - loss: 0.2409 - accuracy: 0.9212 - val_loss: 0.1420 - val_accuracy: 0.9539 - lr: 5.0000e-04\n",
      "Epoch 11/25\n",
      "770/770 [==============================] - 541s 702ms/step - loss: 0.2097 - accuracy: 0.9321 - val_loss: 0.4777 - val_accuracy: 0.8916 - lr: 5.0000e-04\n",
      "Epoch 12/25\n",
      "770/770 [==============================] - 540s 702ms/step - loss: 0.1967 - accuracy: 0.9349 - val_loss: 0.0866 - val_accuracy: 0.9722 - lr: 5.0000e-04\n",
      "Epoch 13/25\n",
      "770/770 [==============================] - 544s 707ms/step - loss: 0.1862 - accuracy: 0.9385 - val_loss: 0.2019 - val_accuracy: 0.9392 - lr: 5.0000e-04\n",
      "Epoch 14/25\n",
      "770/770 [==============================] - ETA: 0s - loss: 0.1796 - accuracy: 0.9412\n",
      "Epoch 14: ReduceLROnPlateau reducing learning rate to 0.0002500000118743628.\n",
      "770/770 [==============================] - 541s 702ms/step - loss: 0.1796 - accuracy: 0.9412 - val_loss: 0.3155 - val_accuracy: 0.9137 - lr: 5.0000e-04\n",
      "Epoch 15/25\n",
      "770/770 [==============================] - 548s 711ms/step - loss: 0.1527 - accuracy: 0.9495 - val_loss: 0.0735 - val_accuracy: 0.9745 - lr: 2.5000e-04\n",
      "Epoch 16/25\n",
      "770/770 [==============================] - 559s 726ms/step - loss: 0.1378 - accuracy: 0.9540 - val_loss: 0.0854 - val_accuracy: 0.9712 - lr: 2.5000e-04\n",
      "Epoch 17/25\n",
      "770/770 [==============================] - ETA: 0s - loss: 0.1319 - accuracy: 0.9561\n",
      "Epoch 17: ReduceLROnPlateau reducing learning rate to 0.0001250000059371814.\n",
      "770/770 [==============================] - 560s 728ms/step - loss: 0.1319 - accuracy: 0.9561 - val_loss: 0.2853 - val_accuracy: 0.9244 - lr: 2.5000e-04\n",
      "Epoch 18/25\n",
      "770/770 [==============================] - 562s 730ms/step - loss: 0.1196 - accuracy: 0.9603 - val_loss: 0.0654 - val_accuracy: 0.9802 - lr: 1.2500e-04\n",
      "Epoch 19/25\n",
      "770/770 [==============================] - 559s 725ms/step - loss: 0.1116 - accuracy: 0.9627 - val_loss: 0.0898 - val_accuracy: 0.9712 - lr: 1.2500e-04\n",
      "Epoch 20/25\n",
      "770/770 [==============================] - 557s 723ms/step - loss: 0.1087 - accuracy: 0.9643 - val_loss: 0.0538 - val_accuracy: 0.9825 - lr: 1.2500e-04\n",
      "Epoch 21/25\n",
      "770/770 [==============================] - 554s 720ms/step - loss: 0.1055 - accuracy: 0.9656 - val_loss: 0.0578 - val_accuracy: 0.9800 - lr: 1.2500e-04\n",
      "Epoch 22/25\n",
      "770/770 [==============================] - ETA: 0s - loss: 0.1068 - accuracy: 0.9651\n",
      "Epoch 22: ReduceLROnPlateau reducing learning rate to 6.25000029685907e-05.\n",
      "770/770 [==============================] - 550s 715ms/step - loss: 0.1068 - accuracy: 0.9651 - val_loss: 0.1072 - val_accuracy: 0.9681 - lr: 1.2500e-04\n",
      "Epoch 23/25\n",
      "770/770 [==============================] - 549s 713ms/step - loss: 0.0987 - accuracy: 0.9668 - val_loss: 0.0508 - val_accuracy: 0.9839 - lr: 6.2500e-05\n",
      "Epoch 24/25\n",
      "770/770 [==============================] - 548s 711ms/step - loss: 0.0951 - accuracy: 0.9688 - val_loss: 0.0410 - val_accuracy: 0.9873 - lr: 6.2500e-05\n",
      "Epoch 25/25\n",
      "770/770 [==============================] - 544s 706ms/step - loss: 0.0951 - accuracy: 0.9688 - val_loss: 0.0501 - val_accuracy: 0.9839 - lr: 6.2500e-05\n"
     ]
    }
   ],
   "source": [
    "#Fit the model including the data augmented and with 25 epochs\n",
    "history = model_5.fit(datagen.flow(X_train, y_train, batch_size=128), validation_data=(X_val, y_val), epochs=25, callbacks = [reduce_lr])"
   ]
  },
  {
   "cell_type": "code",
   "execution_count": 112,
   "id": "7a90749d",
   "metadata": {},
   "outputs": [
    {
     "name": "stdout",
     "output_type": "stream",
     "text": [
      "Model Saved!\n"
     ]
    }
   ],
   "source": [
    "from tensorflow.keras.models import load_model\n",
    "\n",
    "# save the model to use it later\n",
    "model_5.save('Model_capstone.h5')\n",
    "print('Model Saved!')"
   ]
  },
  {
   "cell_type": "code",
   "execution_count": 99,
   "id": "08bbf249",
   "metadata": {},
   "outputs": [
    {
     "data": {
      "image/png": "[encoded data removed]",
      "text/plain": [
       "<Figure size 432x288 with 1 Axes>"
      ]
     },
     "metadata": {
      "needs_background": "light"
     },
     "output_type": "display_data"
    }
   ],
   "source": [
    "#Plot train and validation losses of the model\n",
    "plt.subplots()\n",
    "plt.plot(history.history['loss'], label='Train Loss')\n",
    "plt.plot(history.history['val_loss'], label='Validation Loss')\n",
    "plt.title('Train loss vs Validation loss for model 5')\n",
    "plt.legend()\n",
    "plt.show()"
   ]
  },
  {
   "cell_type": "code",
   "execution_count": 100,
   "id": "7e1dbed6",
   "metadata": {},
   "outputs": [
    {
     "name": "stdout",
     "output_type": "stream",
     "text": [
      "1162/1162 [==============================] - 50s 42ms/step - loss: 0.0741 - accuracy: 0.9745\n",
      "The accuracy of the model is: 97.44969606399536 %\n"
     ]
    }
   ],
   "source": [
    "print('The accuracy of the model is:', model_5.evaluate(X_test, y_test_enc)[1]*100, '%')"
   ]
  },
  {
   "cell_type": "markdown",
   "id": "e37f8cb4",
   "metadata": {},
   "source": [
    "This last model had a very good accuracy on both train and validations sets. As expected, increasing the number of epochs to 25 let the model achieve a better result.<br><br>\n",
    "In the loss plot it is clear that the model had some variations up to approximately 17 epochs. After this point, it stabilized until the end of the run.<br><br>\n",
    "The accuracy on the test set improved up to 97.4%. This is a great improvement, but still short to the goal, which is 100%.<br><br>\n",
    "Let's take a look at the classification report for this model to identify which classes were harder for the model to classify correctly."
   ]
  },
  {
   "cell_type": "code",
   "execution_count": 151,
   "id": "c7ec6193",
   "metadata": {},
   "outputs": [
    {
     "name": "stdout",
     "output_type": "stream",
     "text": [
      "Model: \"sequential_5\"\n",
      "_________________________________________________________________\n",
      " Layer (type)                Output Shape              Param #   \n",
      "=================================================================\n",
      " conv2d_14 (Conv2D)          (None, 28, 28, 32)        320       \n",
      "                                                                 \n",
      " batch_normalization_10 (Bat  (None, 28, 28, 32)       128       \n",
      " chNormalization)                                                \n",
      "                                                                 \n",
      " max_pooling2d_9 (MaxPooling  (None, 14, 14, 32)       0         \n",
      " 2D)                                                             \n",
      "                                                                 \n",
      " conv2d_15 (Conv2D)          (None, 14, 14, 64)        18496     \n",
      "                                                                 \n",
      " dropout_16 (Dropout)        (None, 14, 14, 64)        0         \n",
      "                                                                 \n",
      " batch_normalization_11 (Bat  (None, 14, 14, 64)       256       \n",
      " chNormalization)                                                \n",
      "                                                                 \n",
      " conv2d_16 (Conv2D)          (None, 14, 14, 128)       73856     \n",
      "                                                                 \n",
      " dropout_17 (Dropout)        (None, 14, 14, 128)       0         \n",
      "                                                                 \n",
      " batch_normalization_12 (Bat  (None, 14, 14, 128)      512       \n",
      " chNormalization)                                                \n",
      "                                                                 \n",
      " max_pooling2d_10 (MaxPoolin  (None, 7, 7, 128)        0         \n",
      " g2D)                                                            \n",
      "                                                                 \n",
      " conv2d_17 (Conv2D)          (None, 7, 7, 128)         147584    \n",
      "                                                                 \n",
      " dropout_18 (Dropout)        (None, 7, 7, 128)         0         \n",
      "                                                                 \n",
      " batch_normalization_13 (Bat  (None, 7, 7, 128)        512       \n",
      " chNormalization)                                                \n",
      "                                                                 \n",
      " max_pooling2d_11 (MaxPoolin  (None, 4, 4, 128)        0         \n",
      " g2D)                                                            \n",
      "                                                                 \n",
      " flatten_5 (Flatten)         (None, 2048)              0         \n",
      "                                                                 \n",
      " dense_15 (Dense)            (None, 512)               1049088   \n",
      "                                                                 \n",
      " dropout_19 (Dropout)        (None, 512)               0         \n",
      "                                                                 \n",
      " dense_16 (Dense)            (None, 512)               262656    \n",
      "                                                                 \n",
      " dropout_20 (Dropout)        (None, 512)               0         \n",
      "                                                                 \n",
      " dense_17 (Dense)            (None, 512)               262656    \n",
      "                                                                 \n",
      " dropout_21 (Dropout)        (None, 512)               0         \n",
      "                                                                 \n",
      " dense_18 (Dense)            (None, 28)                14364     \n",
      "                                                                 \n",
      " dropout_27 (Dropout)        (None, 28)                0         \n",
      "                                                                 \n",
      " dropout_33 (Dropout)        (None, 28)                0         \n",
      "                                                                 \n",
      "=================================================================\n",
      "Total params: 1,830,428\n",
      "Trainable params: 1,829,724\n",
      "Non-trainable params: 704\n",
      "_________________________________________________________________\n"
     ]
    }
   ],
   "source": [
    "#Let's load Model_capstone to see if it was saved correctly. Then use it to create the report\n",
    "model_capstone=load_model('Model_capstone.h5')\n",
    "model_capstone.summary()"
   ]
  },
  {
   "cell_type": "code",
   "execution_count": 152,
   "id": "175bfb43",
   "metadata": {},
   "outputs": [
    {
     "name": "stdout",
     "output_type": "stream",
     "text": [
      "1162/1162 [==============================] - 71s 61ms/step\n"
     ]
    }
   ],
   "source": [
    "#Make predictions on the 37172 samples of the X_test\n",
    "y_pred = model_capstone.predict(X_test)\n",
    "y_pred =np.argmax(y_pred,axis=1)"
   ]
  },
  {
   "cell_type": "code",
   "execution_count": 153,
   "id": "a224f4d1",
   "metadata": {},
   "outputs": [
    {
     "name": "stdout",
     "output_type": "stream",
     "text": [
      "Classification report for the best model with Data augmented\n",
      "              precision    recall  f1-score   support\n",
      "\n",
      "           A       1.00      0.91      0.95      1395\n",
      "           B       1.00      0.97      0.98      1513\n",
      "           C       1.00      1.00      1.00      1357\n",
      "           D       1.00      1.00      1.00      1311\n",
      "           E       0.93      0.99      0.96      1583\n",
      "           F       1.00      1.00      1.00      1316\n",
      "           G       0.99      0.99      0.99      1466\n",
      "           H       1.00      0.99      1.00      1566\n",
      "           I       0.98      0.99      0.99      1356\n",
      "           J       0.99      1.00      0.99      1079\n",
      "           K       0.96      1.00      0.98      1402\n",
      "           L       1.00      1.00      1.00      1279\n",
      "           M       0.96      0.98      0.97      1486\n",
      "           N       0.99      0.94      0.96      1353\n",
      "           O       0.96      0.99      0.98      1329\n",
      "           P       0.97      1.00      0.98      1410\n",
      "           Q       0.99      0.97      0.98      1209\n",
      "           R       0.98      0.90      0.94      1244\n",
      "           S       0.97      0.95      0.96      1296\n",
      "           T       0.98      1.00      0.99      1298\n",
      "           U       0.91      0.93      0.92      1296\n",
      "           V       0.94      0.93      0.94      1394\n",
      "           W       0.86      1.00      0.93      1287\n",
      "           X       0.98      0.91      0.95      1360\n",
      "           Y       1.00      0.99      0.99      1380\n",
      "           Z       0.99      0.97      0.98      1056\n",
      "         del       1.00      0.98      0.99      1097\n",
      "       space       1.00      1.00      1.00      1054\n",
      "\n",
      "    accuracy                           0.97     37172\n",
      "   macro avg       0.98      0.97      0.97     37172\n",
      "weighted avg       0.98      0.97      0.97     37172\n",
      "\n"
     ]
    }
   ],
   "source": [
    "print('Classification report for the best model with Data augmented')\n",
    "print(classification_report(y_test, y_pred, target_names = list(dict_classes.values())))"
   ]
  },
  {
   "cell_type": "markdown",
   "id": "597cbb68",
   "metadata": {},
   "source": [
    "The report indicates that some of the most difficult classes were 'R','U','V' and 'W'. Let's check some examples of the misclassified classes."
   ]
  },
  {
   "cell_type": "code",
   "execution_count": 154,
   "id": "6fb1e356",
   "metadata": {},
   "outputs": [],
   "source": [
    "#Reset the index on the y_test labels to match the index in the y_pred\n",
    "y_test = y_test.reset_index(drop=True)"
   ]
  },
  {
   "cell_type": "code",
   "execution_count": 155,
   "id": "70ce0529",
   "metadata": {},
   "outputs": [],
   "source": [
    "#Create a boolean array of '1' indicating correct and '0' indicating incorrect classification\n",
    "arr = []\n",
    "for i in range(len(y_test)):\n",
    "    if y_pred[i] == y_test[i]:\n",
    "        arr.append(1)\n",
    "    else:\n",
    "        arr.append(0)"
   ]
  },
  {
   "cell_type": "code",
   "execution_count": 156,
   "id": "37bee272",
   "metadata": {},
   "outputs": [
    {
     "name": "stdout",
     "output_type": "stream",
     "text": [
      "There are 948 records misclassified of a total of 37172 records\n",
      "The accuracy in predictions is: 97.45%\n"
     ]
    }
   ],
   "source": [
    "#Print the number of records misclassified and the accuracy on predictions\n",
    "result = [i for i,j in enumerate(arr) if j == 0]\n",
    "print(f'There are {len(result)} records misclassified of a total of {len(arr)} records')\n",
    "print(f'The accuracy in predictions is: {round(1-(len(result)/len(arr)),4)*100}%')"
   ]
  },
  {
   "cell_type": "code",
   "execution_count": 164,
   "id": "ed8be01c",
   "metadata": {},
   "outputs": [
    {
     "data": {
      "image/png": "[encoded data removed]",
      "text/plain": [
       "<Figure size 1440x1152 with 15 Axes>"
      ]
     },
     "metadata": {
      "needs_background": "light"
     },
     "output_type": "display_data"
    }
   ],
   "source": [
    "#Print some samples of the misclassified classes\n",
    "plt.figure(figsize=(20,16))\n",
    "i = 0\n",
    "for j in result[:16]:\n",
    "    plt.subplot(4,4,i+1)\n",
    "    plt.imshow(X_test[j].reshape(28,28), cmap='gray')\n",
    "    plt.title(f'Predicted Class {dict_classes[y_pred[j]]}, Actual Class {dict_classes[y_test[j]]}.')\n",
    "    plt.tight_layout()\n",
    "    i += 1"
   ]
  },
  {
   "cell_type": "markdown",
   "id": "67aca95d",
   "metadata": {},
   "source": [
    "It seems that, even though the epochs helped to increase the accuracy of the model, the model still makes a lot of misclassifications. Perhaps the original data (without the augmented data) is enough to train the model and obtain a better result. Let's try one more model with no augmented data and the same structure as the previous one. "
   ]
  },
  {
   "cell_type": "code",
   "execution_count": 105,
   "id": "9ff28055",
   "metadata": {},
   "outputs": [
    {
     "name": "stdout",
     "output_type": "stream",
     "text": [
      "Model: \"sequential_7\"\n",
      "_________________________________________________________________\n",
      " Layer (type)                Output Shape              Param #   \n",
      "=================================================================\n",
      " conv2d_22 (Conv2D)          (None, 28, 28, 32)        320       \n",
      "                                                                 \n",
      " batch_normalization_18 (Bat  (None, 28, 28, 32)       128       \n",
      " chNormalization)                                                \n",
      "                                                                 \n",
      " max_pooling2d_15 (MaxPoolin  (None, 14, 14, 32)       0         \n",
      " g2D)                                                            \n",
      "                                                                 \n",
      " conv2d_23 (Conv2D)          (None, 14, 14, 64)        18496     \n",
      "                                                                 \n",
      " dropout_28 (Dropout)        (None, 14, 14, 64)        0         \n",
      "                                                                 \n",
      " batch_normalization_19 (Bat  (None, 14, 14, 64)       256       \n",
      " chNormalization)                                                \n",
      "                                                                 \n",
      " conv2d_24 (Conv2D)          (None, 14, 14, 128)       73856     \n",
      "                                                                 \n",
      " dropout_29 (Dropout)        (None, 14, 14, 128)       0         \n",
      "                                                                 \n",
      " batch_normalization_20 (Bat  (None, 14, 14, 128)      512       \n",
      " chNormalization)                                                \n",
      "                                                                 \n",
      " max_pooling2d_16 (MaxPoolin  (None, 7, 7, 128)        0         \n",
      " g2D)                                                            \n",
      "                                                                 \n",
      " conv2d_25 (Conv2D)          (None, 7, 7, 128)         147584    \n",
      "                                                                 \n",
      " dropout_30 (Dropout)        (None, 7, 7, 128)         0         \n",
      "                                                                 \n",
      " batch_normalization_21 (Bat  (None, 7, 7, 128)        512       \n",
      " chNormalization)                                                \n",
      "                                                                 \n",
      " max_pooling2d_17 (MaxPoolin  (None, 4, 4, 128)        0         \n",
      " g2D)                                                            \n",
      "                                                                 \n",
      " flatten_7 (Flatten)         (None, 2048)              0         \n",
      "                                                                 \n",
      " dense_23 (Dense)            (None, 512)               1049088   \n",
      "                                                                 \n",
      " dropout_31 (Dropout)        (None, 512)               0         \n",
      "                                                                 \n",
      " dense_24 (Dense)            (None, 512)               262656    \n",
      "                                                                 \n",
      " dropout_32 (Dropout)        (None, 512)               0         \n",
      "                                                                 \n",
      " dense_25 (Dense)            (None, 512)               262656    \n",
      "                                                                 \n",
      " dense_26 (Dense)            (None, 28)                14364     \n",
      "                                                                 \n",
      "=================================================================\n",
      "Total params: 1,830,428\n",
      "Trainable params: 1,829,724\n",
      "Non-trainable params: 704\n",
      "_________________________________________________________________\n"
     ]
    }
   ],
   "source": [
    "#Model with the same structure as model 5\n",
    "model_6 = Sequential()\n",
    "model_6.add(Conv2D(32 , (3,3) , strides = 1 , padding = 'same' , activation = 'relu' , input_shape = (28,28,1)))\n",
    "model_6.add(BatchNormalization())\n",
    "model_6.add(MaxPool2D((2,2) , strides = 2 , padding = 'same'))\n",
    "model_6.add(Conv2D(64 , (3,3) , strides = 1 , padding = 'same' , activation = 'relu'))\n",
    "model_6.add(Dropout(0.3))\n",
    "model_6.add(BatchNormalization())\n",
    "model_6.add(Conv2D(128 , (3,3) , strides = 1 , padding = 'same' , activation = 'relu'))\n",
    "model_6.add(Dropout(0.3))\n",
    "model_6.add(BatchNormalization())\n",
    "model_6.add(MaxPool2D((2,2) , strides = 2 , padding = 'same'))\n",
    "model_6.add(Conv2D(128 , (3,3) , strides = 1 , padding = 'same' , activation = 'relu'))\n",
    "model_6.add(Dropout(0.3))\n",
    "model_6.add(BatchNormalization())\n",
    "model_6.add(MaxPool2D((2,2) , strides = 2 , padding = 'same'))\n",
    "model_6.add(Flatten())\n",
    "model_6.add(Dense(units = 512 , activation = 'relu'))\n",
    "model_6.add(Dropout(0.3))\n",
    "model_6.add(Dense(units = 512 , activation = 'relu'))\n",
    "model_6.add(Dropout(0.3))\n",
    "model_6.add(Dense(units = 512 , activation = 'relu'))\n",
    "model_5.add(Dropout(0.3))\n",
    "model_6.add(Dense(units = 28 , activation = 'softmax'))\n",
    "model_6.summary()"
   ]
  },
  {
   "cell_type": "code",
   "execution_count": 106,
   "id": "b96b4cfe",
   "metadata": {},
   "outputs": [],
   "source": [
    "#Compile the model\n",
    "model_6.compile(optimizer = 'adam' , loss = 'categorical_crossentropy' , metrics = ['accuracy'])"
   ]
  },
  {
   "cell_type": "code",
   "execution_count": 107,
   "id": "ccfd1034",
   "metadata": {},
   "outputs": [
    {
     "name": "stdout",
     "output_type": "stream",
     "text": [
      "Epoch 1/15\n",
      "3079/3079 [==============================] - 633s 205ms/step - loss: 1.0908 - accuracy: 0.6529 - val_loss: 0.3132 - val_accuracy: 0.8938 - lr: 0.0010\n",
      "Epoch 2/15\n",
      "3079/3079 [==============================] - 642s 208ms/step - loss: 0.3441 - accuracy: 0.8899 - val_loss: 0.3459 - val_accuracy: 0.8941 - lr: 0.0010\n",
      "Epoch 3/15\n",
      "3079/3079 [==============================] - 644s 209ms/step - loss: 0.2479 - accuracy: 0.9250 - val_loss: 0.1060 - val_accuracy: 0.9662 - lr: 0.0010\n",
      "Epoch 4/15\n",
      "3079/3079 [==============================] - 636s 206ms/step - loss: 0.1890 - accuracy: 0.9435 - val_loss: 0.2199 - val_accuracy: 0.9322 - lr: 0.0010\n",
      "Epoch 5/15\n",
      "3079/3079 [==============================] - 637s 207ms/step - loss: 0.1665 - accuracy: 0.9520 - val_loss: 0.0607 - val_accuracy: 0.9812 - lr: 0.0010\n",
      "Epoch 6/15\n",
      "3079/3079 [==============================] - 639s 208ms/step - loss: 0.1497 - accuracy: 0.9584 - val_loss: 0.1117 - val_accuracy: 0.9636 - lr: 0.0010\n",
      "Epoch 7/15\n",
      "3079/3079 [==============================] - ETA: 0s - loss: 0.1360 - accuracy: 0.9620\n",
      "Epoch 7: ReduceLROnPlateau reducing learning rate to 0.0005000000237487257.\n",
      "3079/3079 [==============================] - 636s 206ms/step - loss: 0.1360 - accuracy: 0.9620 - val_loss: 0.0714 - val_accuracy: 0.9796 - lr: 0.0010\n",
      "Epoch 8/15\n",
      "3079/3079 [==============================] - 636s 207ms/step - loss: 0.0657 - accuracy: 0.9810 - val_loss: 0.0125 - val_accuracy: 0.9964 - lr: 5.0000e-04\n",
      "Epoch 9/15\n",
      "3079/3079 [==============================] - 639s 208ms/step - loss: 0.0563 - accuracy: 0.9841 - val_loss: 0.0230 - val_accuracy: 0.9927 - lr: 5.0000e-04\n",
      "Epoch 10/15\n",
      "3079/3079 [==============================] - ETA: 0s - loss: 0.0499 - accuracy: 0.9859\n",
      "Epoch 10: ReduceLROnPlateau reducing learning rate to 0.0002500000118743628.\n",
      "3079/3079 [==============================] - 653s 212ms/step - loss: 0.0499 - accuracy: 0.9859 - val_loss: 0.0104 - val_accuracy: 0.9964 - lr: 5.0000e-04\n",
      "Epoch 11/15\n",
      "3079/3079 [==============================] - 664s 216ms/step - loss: 0.0320 - accuracy: 0.9904 - val_loss: 0.0038 - val_accuracy: 0.9990 - lr: 2.5000e-04\n",
      "Epoch 12/15\n",
      "3079/3079 [==============================] - 667s 217ms/step - loss: 0.0277 - accuracy: 0.9917 - val_loss: 0.0038 - val_accuracy: 0.9984 - lr: 2.5000e-04\n",
      "Epoch 13/15\n",
      "3079/3079 [==============================] - ETA: 0s - loss: 0.0227 - accuracy: 0.9933\n",
      "Epoch 13: ReduceLROnPlateau reducing learning rate to 0.0001250000059371814.\n",
      "3079/3079 [==============================] - 665s 216ms/step - loss: 0.0227 - accuracy: 0.9933 - val_loss: 0.0097 - val_accuracy: 0.9970 - lr: 2.5000e-04\n",
      "Epoch 14/15\n",
      "3079/3079 [==============================] - 664s 216ms/step - loss: 0.0177 - accuracy: 0.9947 - val_loss: 0.0017 - val_accuracy: 0.9994 - lr: 1.2500e-04\n",
      "Epoch 15/15\n",
      "3079/3079 [==============================] - 656s 213ms/step - loss: 0.0163 - accuracy: 0.9950 - val_loss: 0.0021 - val_accuracy: 0.9992 - lr: 1.2500e-04\n"
     ]
    }
   ],
   "source": [
    "#Model to train with no augmented data, 15 epochs and callbacks\n",
    "history = model_6.fit(X_train, y_train, validation_data=(X_val, y_val), epochs=15, callbacks = [reduce_lr])"
   ]
  },
  {
   "cell_type": "code",
   "execution_count": 108,
   "id": "44197068",
   "metadata": {},
   "outputs": [
    {
     "data": {
      "image/png": "[encoded data removed]",
      "text/plain": [
       "<Figure size 432x288 with 1 Axes>"
      ]
     },
     "metadata": {
      "needs_background": "light"
     },
     "output_type": "display_data"
    }
   ],
   "source": [
    "#Plot train and validation losses of the model\n",
    "plt.subplots()\n",
    "plt.plot(history.history['loss'], label='Train Loss')\n",
    "plt.plot(history.history['val_loss'], label='Validation Loss')\n",
    "plt.title('Train loss vs Validation loss for model 6')\n",
    "plt.legend()\n",
    "plt.show()"
   ]
  },
  {
   "cell_type": "code",
   "execution_count": 109,
   "id": "c9227564",
   "metadata": {},
   "outputs": [
    {
     "name": "stdout",
     "output_type": "stream",
     "text": [
      "1162/1162 [==============================] - 51s 44ms/step - loss: 0.0052 - accuracy: 0.9981\n",
      "The accuracy of the model is: 99.80899691581726 %\n"
     ]
    }
   ],
   "source": [
    "print('The accuracy of the model is:', model_6.evaluate(X_test, y_test_enc)[1]*100, '%')"
   ]
  },
  {
   "cell_type": "code",
   "execution_count": 113,
   "id": "fbdcc275",
   "metadata": {},
   "outputs": [
    {
     "name": "stdout",
     "output_type": "stream",
     "text": [
      "Model Saved!\n"
     ]
    }
   ],
   "source": [
    "#Let's save the model with no datagen\n",
    "model_6.save('Model_no_datagen.h5')\n",
    "print('Model Saved!')"
   ]
  },
  {
   "cell_type": "markdown",
   "id": "7aaace36",
   "metadata": {},
   "source": [
    "This model definitely performs better than the previous one. In 15 epochs it was able to achieve 99.8% accuracy on the test set. Additionally, as seen in the loss plot, the variation on the train and validation losses, stabilized after epoch 7th. Let's take a look now at the classification report and the total number of misclassified classes."
   ]
  },
  {
   "cell_type": "code",
   "execution_count": 165,
   "id": "5b484483",
   "metadata": {},
   "outputs": [
    {
     "name": "stdout",
     "output_type": "stream",
     "text": [
      "Model: \"sequential_7\"\n",
      "_________________________________________________________________\n",
      " Layer (type)                Output Shape              Param #   \n",
      "=================================================================\n",
      " conv2d_22 (Conv2D)          (None, 28, 28, 32)        320       \n",
      "                                                                 \n",
      " batch_normalization_18 (Bat  (None, 28, 28, 32)       128       \n",
      " chNormalization)                                                \n",
      "                                                                 \n",
      " max_pooling2d_15 (MaxPoolin  (None, 14, 14, 32)       0         \n",
      " g2D)                                                            \n",
      "                                                                 \n",
      " conv2d_23 (Conv2D)          (None, 14, 14, 64)        18496     \n",
      "                                                                 \n",
      " dropout_28 (Dropout)        (None, 14, 14, 64)        0         \n",
      "                                                                 \n",
      " batch_normalization_19 (Bat  (None, 14, 14, 64)       256       \n",
      " chNormalization)                                                \n",
      "                                                                 \n",
      " conv2d_24 (Conv2D)          (None, 14, 14, 128)       73856     \n",
      "                                                                 \n",
      " dropout_29 (Dropout)        (None, 14, 14, 128)       0         \n",
      "                                                                 \n",
      " batch_normalization_20 (Bat  (None, 14, 14, 128)      512       \n",
      " chNormalization)                                                \n",
      "                                                                 \n",
      " max_pooling2d_16 (MaxPoolin  (None, 7, 7, 128)        0         \n",
      " g2D)                                                            \n",
      "                                                                 \n",
      " conv2d_25 (Conv2D)          (None, 7, 7, 128)         147584    \n",
      "                                                                 \n",
      " dropout_30 (Dropout)        (None, 7, 7, 128)         0         \n",
      "                                                                 \n",
      " batch_normalization_21 (Bat  (None, 7, 7, 128)        512       \n",
      " chNormalization)                                                \n",
      "                                                                 \n",
      " max_pooling2d_17 (MaxPoolin  (None, 4, 4, 128)        0         \n",
      " g2D)                                                            \n",
      "                                                                 \n",
      " flatten_7 (Flatten)         (None, 2048)              0         \n",
      "                                                                 \n",
      " dense_23 (Dense)            (None, 512)               1049088   \n",
      "                                                                 \n",
      " dropout_31 (Dropout)        (None, 512)               0         \n",
      "                                                                 \n",
      " dense_24 (Dense)            (None, 512)               262656    \n",
      "                                                                 \n",
      " dropout_32 (Dropout)        (None, 512)               0         \n",
      "                                                                 \n",
      " dense_25 (Dense)            (None, 512)               262656    \n",
      "                                                                 \n",
      " dense_26 (Dense)            (None, 28)                14364     \n",
      "                                                                 \n",
      "=================================================================\n",
      "Total params: 1,830,428\n",
      "Trainable params: 1,829,724\n",
      "Non-trainable params: 704\n",
      "_________________________________________________________________\n"
     ]
    }
   ],
   "source": [
    "#Let's load Model_no_datagen to see if it was saved correctly. Then use it to create the report\n",
    "model_no_datagen=load_model('Model_no_datagen.h5')\n",
    "model_no_datagen.summary()"
   ]
  },
  {
   "cell_type": "code",
   "execution_count": 166,
   "id": "c6b746af",
   "metadata": {},
   "outputs": [
    {
     "name": "stdout",
     "output_type": "stream",
     "text": [
      "1162/1162 [==============================] - 72s 62ms/step\n"
     ]
    }
   ],
   "source": [
    "#Make predictions on the 37172 samples of the X_test\n",
    "y_pred = model_no_datagen.predict(X_test)\n",
    "y_pred =np.argmax(y_pred,axis=1)"
   ]
  },
  {
   "cell_type": "code",
   "execution_count": 167,
   "id": "326c777f",
   "metadata": {},
   "outputs": [
    {
     "name": "stdout",
     "output_type": "stream",
     "text": [
      "Classification report for the model with no Data augmented\n",
      "              precision    recall  f1-score   support\n",
      "\n",
      "           A       1.00      1.00      1.00      1395\n",
      "           B       1.00      1.00      1.00      1513\n",
      "           C       1.00      1.00      1.00      1357\n",
      "           D       1.00      1.00      1.00      1311\n",
      "           E       1.00      1.00      1.00      1583\n",
      "           F       1.00      1.00      1.00      1316\n",
      "           G       1.00      1.00      1.00      1466\n",
      "           H       1.00      1.00      1.00      1566\n",
      "           I       1.00      1.00      1.00      1356\n",
      "           J       1.00      1.00      1.00      1079\n",
      "           K       1.00      1.00      1.00      1402\n",
      "           L       1.00      1.00      1.00      1279\n",
      "           M       1.00      0.99      0.99      1486\n",
      "           N       0.99      1.00      0.99      1353\n",
      "           O       1.00      1.00      1.00      1329\n",
      "           P       1.00      1.00      1.00      1410\n",
      "           Q       1.00      1.00      1.00      1209\n",
      "           R       0.99      0.99      0.99      1244\n",
      "           S       1.00      1.00      1.00      1296\n",
      "           T       1.00      1.00      1.00      1298\n",
      "           U       0.99      1.00      0.99      1296\n",
      "           V       0.99      0.99      0.99      1394\n",
      "           W       1.00      1.00      1.00      1287\n",
      "           X       1.00      1.00      1.00      1360\n",
      "           Y       1.00      0.99      0.99      1380\n",
      "           Z       1.00      1.00      1.00      1056\n",
      "         del       1.00      1.00      1.00      1097\n",
      "       space       1.00      1.00      1.00      1054\n",
      "\n",
      "    accuracy                           1.00     37172\n",
      "   macro avg       1.00      1.00      1.00     37172\n",
      "weighted avg       1.00      1.00      1.00     37172\n",
      "\n"
     ]
    }
   ],
   "source": [
    "print('Classification report for the model with no Data augmented')\n",
    "print(classification_report(y_test, y_pred, target_names = list(dict_classes.values())))"
   ]
  },
  {
   "cell_type": "markdown",
   "id": "dc8055d5",
   "metadata": {},
   "source": [
    "This model looks very promising. It had only a few mistakes during classification. Now, let's plot a heatmap to have a better look at the classes misclassified."
   ]
  },
  {
   "cell_type": "code",
   "execution_count": 168,
   "id": "d157a399",
   "metadata": {},
   "outputs": [
    {
     "data": {
      "image/png": "[encoded data removed]",
      "text/plain": [
       "<Figure size 1440x1440 with 2 Axes>"
      ]
     },
     "metadata": {
      "needs_background": "light"
     },
     "output_type": "display_data"
    }
   ],
   "source": [
    "#Plot the heatmap\n",
    "plt.figure(figsize = (20,20))\n",
    "c_matrix = pd.DataFrame(confusion_matrix(y_test, y_pred), index=dict_classes.values(), columns=dict_classes.values())\n",
    "sns.heatmap(c_matrix, cmap= \"Blues\", annot = True, fmt='d', linewidths=.5, linecolor='blue', cbar_kws={\"orientation\": \"horizontal\"})\n",
    "plt.title('Best model with 99% accuracy and no Data augmented', size=18)\n",
    "plt.show()"
   ]
  },
  {
   "cell_type": "code",
   "execution_count": 169,
   "id": "9cbb148a",
   "metadata": {},
   "outputs": [],
   "source": [
    "#Create a boolean array of '1' indicating correct and '0' indicating incorrect classification\n",
    "arr = []\n",
    "for i in range(len(y_test)):\n",
    "    if y_pred[i] == y_test[i]:\n",
    "        arr.append(1)\n",
    "    else:\n",
    "        arr.append(0)"
   ]
  },
  {
   "cell_type": "code",
   "execution_count": 170,
   "id": "80ed05cb",
   "metadata": {},
   "outputs": [
    {
     "name": "stdout",
     "output_type": "stream",
     "text": [
      "There are 71 records misclassified of a total of 37172 records\n",
      "The accuracy in predictions is: 99.81%\n"
     ]
    }
   ],
   "source": [
    "#Print the number of records misclassified and the accuracy on predictions\n",
    "result = [i for i,j in enumerate(arr) if j == 0]\n",
    "print(f'There are {len(result)} records misclassified of a total of {len(arr)} records')\n",
    "print(f'The accuracy in predictions is: {round(1-(len(result)/len(arr)),4)*100}%')"
   ]
  },
  {
   "cell_type": "markdown",
   "id": "84d00b4e",
   "metadata": {},
   "source": [
    "There were only 71 mistakes on more than 37,000 samples to classify. I will use this model for a final test.<br><br>\n",
    "In this last step of the process, I will test my model on real time classification. I will use my webcam to take video of my hand creating different shapes of letters in ASL. Let's see if the classification is accurate.<br><br>\n",
    "I will use some cv2 utilities from the cvzone library.<br>\n",
    "For more information on this library visit: https://www.computervision.zone/"
   ]
  },
  {
   "cell_type": "code",
   "execution_count": null,
   "id": "ea198cc2",
   "metadata": {},
   "outputs": [
    {
     "name": "stderr",
     "output_type": "stream",
     "text": [
      "2022-09-06 18:32:53.926817: I tensorflow/core/platform/cpu_feature_guard.cc:193] This TensorFlow binary is optimized with oneAPI Deep Neural Network Library (oneDNN) to use the following CPU instructions in performance-critical operations:  AVX2 FMA\n",
      "To enable them in other operations, rebuild TensorFlow with the appropriate compiler flags.\n",
      "INFO: Created TensorFlow Lite XNNPACK delegate for CPU.\n"
     ]
    },
    {
     "name": "stdout",
     "output_type": "stream",
     "text": [
      "1/1 [==============================] - 0s 306ms/step\n",
      "1/1 [==============================] - 0s 28ms/step\n",
      "1/1 [==============================] - 0s 27ms/step\n",
      "1/1 [==============================] - 0s 27ms/step\n",
      "1/1 [==============================] - 0s 26ms/step\n",
      "1/1 [==============================] - 0s 27ms/step\n",
      "1/1 [==============================] - 0s 26ms/step\n",
      "1/1 [==============================] - 0s 27ms/step\n",
      "1/1 [==============================] - 0s 27ms/step\n",
      "1/1 [==============================] - 0s 25ms/step\n",
      "1/1 [==============================] - 0s 27ms/step\n",
      "1/1 [==============================] - 0s 27ms/step\n",
      "1/1 [==============================] - 0s 26ms/step\n",
      "1/1 [==============================] - 0s 26ms/step\n",
      "1/1 [==============================] - 0s 25ms/step\n"
     ]
    }
   ],
   "source": [
    "#This code was adapted from: https://github.com/cvzone/cvzone\n",
    "import cv2\n",
    "from cvzone.HandTrackingModule import HandDetector\n",
    "from cvzone.ClassificationModule import Classifier\n",
    "import keras\n",
    "import string\n",
    "import time\n",
    "import numpy as np\n",
    "import math\n",
    "\n",
    "cap = cv2.VideoCapture(0)#Initialize a capture variable for the video of the camara (device 0)\n",
    "detector = HandDetector(maxHands=1) #Use HandDetector utility to check if there are any hands present\n",
    "\n",
    "#I will use the model with no augmented data and the 28 defined classes\n",
    "clf = Classifier('Model_no_datagen.h5', 'labels.txt') #This function needs a .txt file for the labels\n",
    "labels = list(dict_classes.values())\n",
    "offset = 100 #Offset for the frame of the image\n",
    "imgSize = 400 #Image size to detect\n",
    "\n",
    "while True:\n",
    "    success, img = cap.read() #read the image\n",
    "    imgOutput = img.copy() \n",
    "    hands = detector.findHands(img, draw=False) #detect the image of a hand\n",
    "    if hands: #if any hands present\n",
    "        hand = hands[0] \n",
    "        x, y, w, h = hand['bbox']\n",
    "        imgWhite = np.ones((imgSize,imgSize,3), np.uint8)*255 #Create a white background\n",
    "        imgCrop = img[y - offset:y + h + offset, x - offset:x + w + offset] #Define the size of the image\n",
    "        \n",
    "        aspectRatio = h / w\n",
    "        \n",
    "        if aspectRatio > 1: #Conditional to center the image if height is greater than the width\n",
    "            k = imgSize / h\n",
    "            wCal = math.ceil(k * w)\n",
    "            imgResize = cv2.resize(imgCrop, (wCal, imgSize)) #resize the image\n",
    "            wGap = math.ceil((imgSize - wCal)/2) #center the image\n",
    "            imgWhite[:,wGap:wCal + wGap] = imgResize #Superimpose the image on the white background\n",
    "            #Setup of this function was modified on the .py file to be able to receive 28 x 28 grayscale images\n",
    "            prediction, index = clf.getPrediction(cv2.cvtColor(imgWhite, cv2.COLOR_BGR2GRAY))\n",
    "            \n",
    "        else: #Conditional to center the image if height is less than or equal to the width\n",
    "            k = imgSize / w\n",
    "            hCal = math.ceil(k * h)\n",
    "            imgResize = cv2.resize(imgCrop, (imgSize, hCal)) #resize the image\n",
    "            hGap = math.ceil((imgSize - hCal)/2) #center the image\n",
    "            imgWhite[hGap:hCal + hGap, :] = imgResize #Superimpose the image on the white background\n",
    "            #Setup of this function was modified on the .py file to be able to receive 28 x 28 grayscale images\n",
    "            prediction, index = clf.getPrediction(cv2.cvtColor(imgWhite, cv2.COLOR_BGR2GRAY))\n",
    "        \n",
    "        #Display text over the image to show the predicted class\n",
    "        cv2.putText(imgOutput, labels[index], (x,y), cv2.FONT_HERSHEY_COMPLEX,2,(0,255,0),2)\n",
    "        cv2.imshow('ImageCrop', imgCrop)\n",
    "        cv2.imshow('ImageWhite', imgWhite)\n",
    "        \n",
    "    cv2.imshow('Image', imgOutput)\n",
    "    cv2.waitKey(1)\n",
    "\n"
   ]
  },
  {
   "cell_type": "markdown",
   "id": "003c2830",
   "metadata": {},
   "source": [
    "After testing the model on this last trial, there were some classes classified correctly and other that were wrongly classified. The following images show some samples of the classification executed during this last test."
   ]
  },
  {
   "cell_type": "markdown",
   "id": "087376be",
   "metadata": {},
   "source": [
    "<img src=\"../Images/Trial_A.png\" width=\"240\" height=\"240\" align=\"center\"/>\n",
    "<center><i>Predicted class: A, Actual class: A<i></center>"
   ]
  },
  {
   "cell_type": "markdown",
   "id": "147fa4df",
   "metadata": {},
   "source": [
    "<img src=\"../Images/Trial_B.png\" width=\"240\" height=\"240\" align=\"center\"/>\n",
    "<center><i>Predicted class: B, Actual class: B<i></center>"
   ]
  },
  {
   "cell_type": "markdown",
   "id": "0da5a3b3",
   "metadata": {},
   "source": [
    "<img src=\"../Images/Trial_I.png\" width=\"240\" height=\"240\" align=\"center\"/>\n",
    "<center><i>Predicted class: I, Actual class: I<i></center>"
   ]
  },
  {
   "cell_type": "markdown",
   "id": "5def17b5",
   "metadata": {},
   "source": [
    "<img src=\"../Images/Trial_P.png\" width=\"240\" height=\"240\" align=\"center\"/>\n",
    "<center><i>Predicted class: P, Actual class: P<i></center>"
   ]
  },
  {
   "cell_type": "markdown",
   "id": "b3bba1e1",
   "metadata": {},
   "source": [
    "<img src=\"../Images/Trial_R.png\" width=\"240\" height=\"240\" align=\"center\"/>\n",
    "<center><i>Predicted class: K, Actual class: R<i></center>"
   ]
  },
  {
   "cell_type": "markdown",
   "id": "e2b5eaf4",
   "metadata": {},
   "source": [
    "<img src=\"../Images/Trial_X.png\" width=\"240\" height=\"240\" align=\"center\"/>\n",
    "<center><i>Predicted class: E, Actual class: X<i></center>"
   ]
  },
  {
   "cell_type": "markdown",
   "id": "22f4b5ae",
   "metadata": {},
   "source": [
    "# Conclusion:\n",
    "\n",
    "During this project, three different datasets were used with the purpose of training a model with enough data. All 3 sets were preprocessed and merged into one big dataset.<br><br>\n",
    "\n",
    "After having all the information ready, six models in total were trained. Two of them were trained on the original merged dataset, while the other four models were trained using additional augmented data, fed to the model during the fitting process.<br><br>\n",
    "\n",
    "At the end of the training process there were only two models left.<br>\n",
    "The first model used the additional augmented data and was able to achieve ~97% accuracy on the test data.<br>\n",
    "On the other hand, the second model didn't use the additional data during training and was able to achieve an accuracy greater than 99%.<br><br>\n",
    "\n",
    "Finally, the chosen model, with over 99% accuracy, was put to a final test to try to classify images on a real time video scenario. The model was able to classify correctly 4 out of 6 images.\n",
    "\n",
    "Based on the results obtained during this project, I can conclude the following:<br><br>\n",
    "\n",
    "This project was a great opportunity to work with image recognition and understand the basics of convolutional neural networks.<br><br>\n",
    "\n",
    "I think that it was very beneficial to have as much information (images) as possible to train the model, but I was able to understand the challenge in finding a proper network to classify with high accuracy. Every component of the network plays an important roll in the classification process so, the better you understand these components, the better chance you have to improve its performance.<br><br>\n",
    "\n",
    "Additionally, by the end of the training process, I was able to see that the network trained without augmented data performed the best, but during the final challenge seemed to lose some classification power. This problem makes me wonder whether an improved version of the best model trained with augmented data, could get better results than the one with 99% accuracy. How important is the augmented data when you have ~100,000 images to train your model?\n",
    "\n",
    "There is more area to explore with the real time video use to classify images. I understood that even though my model had almost perfect accuracy, this doesn't mean that it will perform well in any environment. Perhaps I need to acquire even more data to tackle this challenge."
   ]
  }
 ],
 "metadata": {
  "kernelspec": {
   "display_name": "Python 3 (ipykernel)",
   "language": "python",
   "name": "python3"
  },
  "language_info": {
   "codemirror_mode": {
    "name": "ipython",
    "version": 3
   },
   "file_extension": ".py",
   "mimetype": "text/x-python",
   "name": "python",
   "nbconvert_exporter": "python",
   "pygments_lexer": "ipython3",
   "version": "3.8.8"
  }
 },
 "nbformat": 4,
 "nbformat_minor": 5
}
